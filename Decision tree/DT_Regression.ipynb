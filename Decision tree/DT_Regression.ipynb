{
  "cells": [
    {
      "metadata": {
        "trusted": true
      },
      "cell_type": "code",
      "source": "# We are going to predict life which is continous value. So this Regression problem\n\nimport pandas as pd\nimport warnings\nwarnings.filterwarnings(\"ignore\")",
      "execution_count": 177,
      "outputs": []
    },
    {
      "metadata": {
        "trusted": true
      },
      "cell_type": "code",
      "source": "df = pd.read_csv('gapminder.csv')",
      "execution_count": 178,
      "outputs": []
    },
    {
      "metadata": {
        "trusted": true
      },
      "cell_type": "code",
      "source": "df.info()",
      "execution_count": 179,
      "outputs": [
        {
          "output_type": "stream",
          "text": "<class 'pandas.core.frame.DataFrame'>\nRangeIndex: 139 entries, 0 to 138\nData columns (total 10 columns):\npopulation         139 non-null int64\nfertility          139 non-null float64\nHIV                139 non-null float64\nCO2                139 non-null float64\nBMI_male           139 non-null float64\nGDP                139 non-null int64\nBMI_female         139 non-null float64\nlife               139 non-null float64\nchild_mortality    139 non-null float64\nRegion             139 non-null object\ndtypes: float64(7), int64(2), object(1)\nmemory usage: 10.9+ KB\n",
          "name": "stdout"
        }
      ]
    },
    {
      "metadata": {
        "trusted": true
      },
      "cell_type": "code",
      "source": "df.head()",
      "execution_count": 180,
      "outputs": [
        {
          "output_type": "execute_result",
          "execution_count": 180,
          "data": {
            "text/html": "<div>\n<style scoped>\n    .dataframe tbody tr th:only-of-type {\n        vertical-align: middle;\n    }\n\n    .dataframe tbody tr th {\n        vertical-align: top;\n    }\n\n    .dataframe thead th {\n        text-align: right;\n    }\n</style>\n<table border=\"1\" class=\"dataframe\">\n  <thead>\n    <tr style=\"text-align: right;\">\n      <th></th>\n      <th>population</th>\n      <th>fertility</th>\n      <th>HIV</th>\n      <th>CO2</th>\n      <th>BMI_male</th>\n      <th>GDP</th>\n      <th>BMI_female</th>\n      <th>life</th>\n      <th>child_mortality</th>\n      <th>Region</th>\n    </tr>\n  </thead>\n  <tbody>\n    <tr>\n      <th>0</th>\n      <td>34811059</td>\n      <td>2.73</td>\n      <td>0.1</td>\n      <td>3.328945</td>\n      <td>24.59620</td>\n      <td>12314</td>\n      <td>129.9049</td>\n      <td>75.3</td>\n      <td>29.5</td>\n      <td>Middle East &amp; North Africa</td>\n    </tr>\n    <tr>\n      <th>1</th>\n      <td>19842251</td>\n      <td>6.43</td>\n      <td>2.0</td>\n      <td>1.474353</td>\n      <td>22.25083</td>\n      <td>7103</td>\n      <td>130.1247</td>\n      <td>58.3</td>\n      <td>192.0</td>\n      <td>Sub-Saharan Africa</td>\n    </tr>\n    <tr>\n      <th>2</th>\n      <td>40381860</td>\n      <td>2.24</td>\n      <td>0.5</td>\n      <td>4.785170</td>\n      <td>27.50170</td>\n      <td>14646</td>\n      <td>118.8915</td>\n      <td>75.5</td>\n      <td>15.4</td>\n      <td>America</td>\n    </tr>\n    <tr>\n      <th>3</th>\n      <td>2975029</td>\n      <td>1.40</td>\n      <td>0.1</td>\n      <td>1.804106</td>\n      <td>25.35542</td>\n      <td>7383</td>\n      <td>132.8108</td>\n      <td>72.5</td>\n      <td>20.0</td>\n      <td>Europe &amp; Central Asia</td>\n    </tr>\n    <tr>\n      <th>4</th>\n      <td>21370348</td>\n      <td>1.96</td>\n      <td>0.1</td>\n      <td>18.016313</td>\n      <td>27.56373</td>\n      <td>41312</td>\n      <td>117.3755</td>\n      <td>81.5</td>\n      <td>5.2</td>\n      <td>East Asia &amp; Pacific</td>\n    </tr>\n  </tbody>\n</table>\n</div>",
            "text/plain": "   population  fertility  HIV        CO2  BMI_male    GDP  BMI_female  life  \\\n0    34811059       2.73  0.1   3.328945  24.59620  12314    129.9049  75.3   \n1    19842251       6.43  2.0   1.474353  22.25083   7103    130.1247  58.3   \n2    40381860       2.24  0.5   4.785170  27.50170  14646    118.8915  75.5   \n3     2975029       1.40  0.1   1.804106  25.35542   7383    132.8108  72.5   \n4    21370348       1.96  0.1  18.016313  27.56373  41312    117.3755  81.5   \n\n   child_mortality                      Region  \n0             29.5  Middle East & North Africa  \n1            192.0          Sub-Saharan Africa  \n2             15.4                     America  \n3             20.0       Europe & Central Asia  \n4              5.2         East Asia & Pacific  "
          },
          "metadata": {}
        }
      ]
    },
    {
      "metadata": {
        "trusted": true
      },
      "cell_type": "code",
      "source": "X = df.drop(['life','Region'],axis=1)\ny = df.life",
      "execution_count": 181,
      "outputs": []
    },
    {
      "metadata": {
        "trusted": true
      },
      "cell_type": "code",
      "source": "X = pd.concat([pd.get_dummies(df['Region']),X],axis=1)\nX.head()",
      "execution_count": 182,
      "outputs": [
        {
          "output_type": "execute_result",
          "execution_count": 182,
          "data": {
            "text/html": "<div>\n<style scoped>\n    .dataframe tbody tr th:only-of-type {\n        vertical-align: middle;\n    }\n\n    .dataframe tbody tr th {\n        vertical-align: top;\n    }\n\n    .dataframe thead th {\n        text-align: right;\n    }\n</style>\n<table border=\"1\" class=\"dataframe\">\n  <thead>\n    <tr style=\"text-align: right;\">\n      <th></th>\n      <th>America</th>\n      <th>East Asia &amp; Pacific</th>\n      <th>Europe &amp; Central Asia</th>\n      <th>Middle East &amp; North Africa</th>\n      <th>South Asia</th>\n      <th>Sub-Saharan Africa</th>\n      <th>population</th>\n      <th>fertility</th>\n      <th>HIV</th>\n      <th>CO2</th>\n      <th>BMI_male</th>\n      <th>GDP</th>\n      <th>BMI_female</th>\n      <th>child_mortality</th>\n    </tr>\n  </thead>\n  <tbody>\n    <tr>\n      <th>0</th>\n      <td>0</td>\n      <td>0</td>\n      <td>0</td>\n      <td>1</td>\n      <td>0</td>\n      <td>0</td>\n      <td>34811059</td>\n      <td>2.73</td>\n      <td>0.1</td>\n      <td>3.328945</td>\n      <td>24.59620</td>\n      <td>12314</td>\n      <td>129.9049</td>\n      <td>29.5</td>\n    </tr>\n    <tr>\n      <th>1</th>\n      <td>0</td>\n      <td>0</td>\n      <td>0</td>\n      <td>0</td>\n      <td>0</td>\n      <td>1</td>\n      <td>19842251</td>\n      <td>6.43</td>\n      <td>2.0</td>\n      <td>1.474353</td>\n      <td>22.25083</td>\n      <td>7103</td>\n      <td>130.1247</td>\n      <td>192.0</td>\n    </tr>\n    <tr>\n      <th>2</th>\n      <td>1</td>\n      <td>0</td>\n      <td>0</td>\n      <td>0</td>\n      <td>0</td>\n      <td>0</td>\n      <td>40381860</td>\n      <td>2.24</td>\n      <td>0.5</td>\n      <td>4.785170</td>\n      <td>27.50170</td>\n      <td>14646</td>\n      <td>118.8915</td>\n      <td>15.4</td>\n    </tr>\n    <tr>\n      <th>3</th>\n      <td>0</td>\n      <td>0</td>\n      <td>1</td>\n      <td>0</td>\n      <td>0</td>\n      <td>0</td>\n      <td>2975029</td>\n      <td>1.40</td>\n      <td>0.1</td>\n      <td>1.804106</td>\n      <td>25.35542</td>\n      <td>7383</td>\n      <td>132.8108</td>\n      <td>20.0</td>\n    </tr>\n    <tr>\n      <th>4</th>\n      <td>0</td>\n      <td>1</td>\n      <td>0</td>\n      <td>0</td>\n      <td>0</td>\n      <td>0</td>\n      <td>21370348</td>\n      <td>1.96</td>\n      <td>0.1</td>\n      <td>18.016313</td>\n      <td>27.56373</td>\n      <td>41312</td>\n      <td>117.3755</td>\n      <td>5.2</td>\n    </tr>\n  </tbody>\n</table>\n</div>",
            "text/plain": "   America  East Asia & Pacific  Europe & Central Asia  \\\n0        0                    0                      0   \n1        0                    0                      0   \n2        1                    0                      0   \n3        0                    0                      1   \n4        0                    1                      0   \n\n   Middle East & North Africa  South Asia  Sub-Saharan Africa  population  \\\n0                           1           0                   0    34811059   \n1                           0           0                   1    19842251   \n2                           0           0                   0    40381860   \n3                           0           0                   0     2975029   \n4                           0           0                   0    21370348   \n\n   fertility  HIV        CO2  BMI_male    GDP  BMI_female  child_mortality  \n0       2.73  0.1   3.328945  24.59620  12314    129.9049             29.5  \n1       6.43  2.0   1.474353  22.25083   7103    130.1247            192.0  \n2       2.24  0.5   4.785170  27.50170  14646    118.8915             15.4  \n3       1.40  0.1   1.804106  25.35542   7383    132.8108             20.0  \n4       1.96  0.1  18.016313  27.56373  41312    117.3755              5.2  "
          },
          "metadata": {}
        }
      ]
    },
    {
      "metadata": {
        "trusted": true
      },
      "cell_type": "code",
      "source": "from sklearn.model_selection import train_test_split as tts , GridSearchCV , RandomizedSearchCV\nX_train,X_test,y_train,y_test = tts(X,y,random_state=42,test_size=0.75)",
      "execution_count": 183,
      "outputs": []
    },
    {
      "metadata": {
        "trusted": true
      },
      "cell_type": "code",
      "source": "from sklearn.tree import DecisionTreeRegressor\ndtr = DecisionTreeRegressor()\ndtr",
      "execution_count": 184,
      "outputs": [
        {
          "output_type": "execute_result",
          "execution_count": 184,
          "data": {
            "text/plain": "DecisionTreeRegressor(criterion='mse', max_depth=None, max_features=None,\n           max_leaf_nodes=None, min_impurity_decrease=0.0,\n           min_impurity_split=None, min_samples_leaf=1,\n           min_samples_split=2, min_weight_fraction_leaf=0.0,\n           presort=False, random_state=None, splitter='best')"
          },
          "metadata": {}
        }
      ]
    },
    {
      "metadata": {
        "trusted": true
      },
      "cell_type": "code",
      "source": "dtr.fit(X_train,y_train)",
      "execution_count": 185,
      "outputs": [
        {
          "output_type": "execute_result",
          "execution_count": 185,
          "data": {
            "text/plain": "DecisionTreeRegressor(criterion='mse', max_depth=None, max_features=None,\n           max_leaf_nodes=None, min_impurity_decrease=0.0,\n           min_impurity_split=None, min_samples_leaf=1,\n           min_samples_split=2, min_weight_fraction_leaf=0.0,\n           presort=False, random_state=None, splitter='best')"
          },
          "metadata": {}
        }
      ]
    },
    {
      "metadata": {
        "trusted": true
      },
      "cell_type": "code",
      "source": "y_pred = dtr.predict(X_test)",
      "execution_count": 186,
      "outputs": []
    },
    {
      "metadata": {
        "trusted": true
      },
      "cell_type": "code",
      "source": "r_score = dtr.score(X_test,y_test)\nprint('r_score : '+ str(r2_score))",
      "execution_count": 187,
      "outputs": [
        {
          "output_type": "stream",
          "text": "r_score : <function r2_score at 0x7f8c54b77bf8>\n",
          "name": "stdout"
        }
      ]
    },
    {
      "metadata": {
        "trusted": true
      },
      "cell_type": "code",
      "source": "# Check performance using various metrices\nfrom sklearn.metrics import mean_absolute_error,mean_squared_error,r2_score",
      "execution_count": 188,
      "outputs": []
    },
    {
      "metadata": {
        "trusted": true
      },
      "cell_type": "code",
      "source": "def check_common_metrices_score(test,pred):\n    print(\"mean absolute error is : \"+ str(mean_absolute_error(test,pred)))\n    print(\"Mean squared error is : \"+ str(mean_squared_error(test,pred)))\n    print(\"r2 score is : \"+ str(r2_score(test,pred)))",
      "execution_count": 189,
      "outputs": []
    },
    {
      "metadata": {
        "trusted": true
      },
      "cell_type": "code",
      "source": "check_common_metrices_score(y_pred,y_test)",
      "execution_count": 190,
      "outputs": [
        {
          "output_type": "stream",
          "text": "mean absolute error is : 3.8514285714285714\nMean squared error is : 23.686666666666678\nr2 score is : 0.738404938422877\n",
          "name": "stdout"
        }
      ]
    },
    {
      "metadata": {
        "trusted": true
      },
      "cell_type": "code",
      "source": "",
      "execution_count": null,
      "outputs": []
    },
    {
      "metadata": {
        "trusted": true
      },
      "cell_type": "code",
      "source": "features_coeff = dtr.feature_importances_",
      "execution_count": 191,
      "outputs": []
    },
    {
      "metadata": {
        "trusted": true
      },
      "cell_type": "code",
      "source": "feature_coeff_map = dict(zip(X.columns,features_coeff))\nprint(sorted(feature_coeff_map.items(), key=lambda item: item[1],reverse=True))\nbest_features = [k for k, v in sorted(feature_coeff_map.items(), key=lambda item: item[1],reverse=True)]",
      "execution_count": 192,
      "outputs": [
        {
          "output_type": "stream",
          "text": "[('child_mortality', 0.8711698948897385), ('HIV', 0.04800616497260276), ('BMI_male', 0.027944837131082645), ('population', 0.027524456778849373), ('fertility', 0.02114568471253356), ('GDP', 0.0021514469471961705), ('BMI_female', 0.0016182681251659683), ('America', 0.00031837555721215177), ('Europe & Central Asia', 8.798084871549107e-05), ('CO2', 2.6312029523094356e-05), ('Sub-Saharan Africa', 6.5780073803248884e-06), ('East Asia & Pacific', 0.0), ('Middle East & North Africa', 0.0), ('South Asia', 0.0)]\n",
          "name": "stdout"
        }
      ]
    },
    {
      "metadata": {
        "trusted": true
      },
      "cell_type": "code",
      "source": "# parameter tuning  criterion=\"entropy\", max_depth=10, min_samples_split=0.06,class_weight=\"balanced\"\nparams = {'criterion':['friedman_mse','mse'],'max_depth':np.arange(2,20),'min_samples_split':np.arange(2,6),'min_weight_fraction_leaf':np.arange(0.01,0.10,0.01)}",
      "execution_count": 233,
      "outputs": []
    },
    {
      "metadata": {
        "trusted": true
      },
      "cell_type": "code",
      "source": "dtr = DecisionTreeRegressor()\n\n# GridSearchCV with default midel, params, and cv = 10\ndtr_cv = GridSearchCV(estimator=dtr,param_grid=params,cv = 10)",
      "execution_count": 242,
      "outputs": []
    },
    {
      "metadata": {
        "trusted": true
      },
      "cell_type": "code",
      "source": "dtr_cv.fit(X,y)",
      "execution_count": 235,
      "outputs": [
        {
          "output_type": "execute_result",
          "execution_count": 235,
          "data": {
            "text/plain": "GridSearchCV(cv=10, error_score='raise-deprecating',\n       estimator=DecisionTreeRegressor(criterion='mse', max_depth=None, max_features=None,\n           max_leaf_nodes=None, min_impurity_decrease=0.0,\n           min_impurity_split=None, min_samples_leaf=1,\n           min_samples_split=2, min_weight_fraction_leaf=0.05,\n           presort=False, random_state=None, splitter='best'),\n       fit_params=None, iid='warn', n_jobs=None,\n       param_grid={'criterion': ['friedman_mse', 'mse'], 'max_depth': array([ 2,  3,  4,  5,  6,  7,  8,  9, 10, 11, 12, 13, 14, 15, 16, 17, 18,\n       19]), 'min_samples_split': array([2, 3, 4, 5]), 'min_weight_fraction_leaf': array([0.01, 0.02, 0.03, 0.04, 0.05, 0.06, 0.07, 0.08, 0.09])},\n       pre_dispatch='2*n_jobs', refit=True, return_train_score='warn',\n       scoring=None, verbose=0)"
          },
          "metadata": {}
        }
      ]
    },
    {
      "metadata": {
        "trusted": true
      },
      "cell_type": "code",
      "source": "dtr_cv.best_estimator_",
      "execution_count": 236,
      "outputs": [
        {
          "output_type": "execute_result",
          "execution_count": 236,
          "data": {
            "text/plain": "DecisionTreeRegressor(criterion='friedman_mse', max_depth=3,\n           max_features=None, max_leaf_nodes=None,\n           min_impurity_decrease=0.0, min_impurity_split=None,\n           min_samples_leaf=1, min_samples_split=2,\n           min_weight_fraction_leaf=0.04, presort=False, random_state=None,\n           splitter='best')"
          },
          "metadata": {}
        }
      ]
    },
    {
      "metadata": {
        "trusted": true
      },
      "cell_type": "code",
      "source": "dtr_cv.best_params_",
      "execution_count": 237,
      "outputs": [
        {
          "output_type": "execute_result",
          "execution_count": 237,
          "data": {
            "text/plain": "{'criterion': 'friedman_mse',\n 'max_depth': 3,\n 'min_samples_split': 2,\n 'min_weight_fraction_leaf': 0.04}"
          },
          "metadata": {}
        }
      ]
    },
    {
      "metadata": {
        "trusted": true
      },
      "cell_type": "code",
      "source": "dtr_cv.best_score_",
      "execution_count": 238,
      "outputs": [
        {
          "output_type": "execute_result",
          "execution_count": 238,
          "data": {
            "text/plain": "0.8261369203660636"
          },
          "metadata": {}
        }
      ]
    },
    {
      "metadata": {
        "trusted": true
      },
      "cell_type": "code",
      "source": "dtr_best_model = dtr_cv.best_estimator_\ndtr_best_model.fit(X_train,y_train)\n# check_common_metrices_score(y_test,dtr_cv.predict(y_test))",
      "execution_count": 239,
      "outputs": [
        {
          "output_type": "execute_result",
          "execution_count": 239,
          "data": {
            "text/plain": "DecisionTreeRegressor(criterion='friedman_mse', max_depth=3,\n           max_features=None, max_leaf_nodes=None,\n           min_impurity_decrease=0.0, min_impurity_split=None,\n           min_samples_leaf=1, min_samples_split=2,\n           min_weight_fraction_leaf=0.04, presort=False, random_state=None,\n           splitter='best')"
          },
          "metadata": {}
        }
      ]
    },
    {
      "metadata": {
        "trusted": true
      },
      "cell_type": "code",
      "source": "",
      "execution_count": null,
      "outputs": []
    },
    {
      "metadata": {
        "trusted": true
      },
      "cell_type": "code",
      "source": "y_pred = dtr_best_model.predict(X_test)",
      "execution_count": 240,
      "outputs": []
    },
    {
      "metadata": {
        "trusted": true
      },
      "cell_type": "code",
      "source": "check_common_metrices_score(y_test,y_pred)",
      "execution_count": 241,
      "outputs": [
        {
          "output_type": "stream",
          "text": "mean absolute error is : 3.2343862433862407\nMean squared error is : 17.065942184009376\nr2 score is : 0.7877031863242199\n",
          "name": "stdout"
        }
      ]
    },
    {
      "metadata": {
        "trusted": true
      },
      "cell_type": "code",
      "source": "",
      "execution_count": null,
      "outputs": []
    },
    {
      "metadata": {
        "trusted": true
      },
      "cell_type": "code",
      "source": "",
      "execution_count": null,
      "outputs": []
    },
    {
      "metadata": {
        "trusted": true
      },
      "cell_type": "code",
      "source": "np.arange(0.01,0.10,0.01)",
      "execution_count": 232,
      "outputs": [
        {
          "output_type": "execute_result",
          "execution_count": 232,
          "data": {
            "text/plain": "array([0.01, 0.02, 0.03, 0.04, 0.05, 0.06, 0.07, 0.08, 0.09])"
          },
          "metadata": {}
        }
      ]
    },
    {
      "metadata": {
        "trusted": true
      },
      "cell_type": "code",
      "source": "",
      "execution_count": null,
      "outputs": []
    }
  ],
  "metadata": {
    "kernelspec": {
      "name": "python36",
      "display_name": "Python 3.6",
      "language": "python"
    },
    "language_info": {
      "mimetype": "text/x-python",
      "nbconvert_exporter": "python",
      "name": "python",
      "pygments_lexer": "ipython3",
      "version": "3.6.6",
      "file_extension": ".py",
      "codemirror_mode": {
        "version": 3,
        "name": "ipython"
      }
    }
  },
  "nbformat": 4,
  "nbformat_minor": 2
}