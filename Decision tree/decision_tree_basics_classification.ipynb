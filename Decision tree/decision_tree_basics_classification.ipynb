{
  "cells": [
    {
      "metadata": {
        "trusted": true
      },
      "cell_type": "code",
      "source": "import pandas as pd\nimport numpy as np",
      "execution_count": 204,
      "outputs": []
    },
    {
      "metadata": {
        "trusted": true
      },
      "cell_type": "code",
      "source": "df = pd.read_csv(\"gapminder.csv\")",
      "execution_count": 205,
      "outputs": []
    },
    {
      "metadata": {
        "trusted": true
      },
      "cell_type": "code",
      "source": "df.head()",
      "execution_count": 206,
      "outputs": [
        {
          "output_type": "execute_result",
          "execution_count": 206,
          "data": {
            "text/html": "<div>\n<style scoped>\n    .dataframe tbody tr th:only-of-type {\n        vertical-align: middle;\n    }\n\n    .dataframe tbody tr th {\n        vertical-align: top;\n    }\n\n    .dataframe thead th {\n        text-align: right;\n    }\n</style>\n<table border=\"1\" class=\"dataframe\">\n  <thead>\n    <tr style=\"text-align: right;\">\n      <th></th>\n      <th>population</th>\n      <th>fertility</th>\n      <th>HIV</th>\n      <th>CO2</th>\n      <th>BMI_male</th>\n      <th>GDP</th>\n      <th>BMI_female</th>\n      <th>life</th>\n      <th>child_mortality</th>\n      <th>Region</th>\n    </tr>\n  </thead>\n  <tbody>\n    <tr>\n      <th>0</th>\n      <td>34811059</td>\n      <td>2.73</td>\n      <td>0.1</td>\n      <td>3.328945</td>\n      <td>24.59620</td>\n      <td>12314</td>\n      <td>129.9049</td>\n      <td>75.3</td>\n      <td>29.5</td>\n      <td>Middle East &amp; North Africa</td>\n    </tr>\n    <tr>\n      <th>1</th>\n      <td>19842251</td>\n      <td>6.43</td>\n      <td>2.0</td>\n      <td>1.474353</td>\n      <td>22.25083</td>\n      <td>7103</td>\n      <td>130.1247</td>\n      <td>58.3</td>\n      <td>192.0</td>\n      <td>Sub-Saharan Africa</td>\n    </tr>\n    <tr>\n      <th>2</th>\n      <td>40381860</td>\n      <td>2.24</td>\n      <td>0.5</td>\n      <td>4.785170</td>\n      <td>27.50170</td>\n      <td>14646</td>\n      <td>118.8915</td>\n      <td>75.5</td>\n      <td>15.4</td>\n      <td>America</td>\n    </tr>\n    <tr>\n      <th>3</th>\n      <td>2975029</td>\n      <td>1.40</td>\n      <td>0.1</td>\n      <td>1.804106</td>\n      <td>25.35542</td>\n      <td>7383</td>\n      <td>132.8108</td>\n      <td>72.5</td>\n      <td>20.0</td>\n      <td>Europe &amp; Central Asia</td>\n    </tr>\n    <tr>\n      <th>4</th>\n      <td>21370348</td>\n      <td>1.96</td>\n      <td>0.1</td>\n      <td>18.016313</td>\n      <td>27.56373</td>\n      <td>41312</td>\n      <td>117.3755</td>\n      <td>81.5</td>\n      <td>5.2</td>\n      <td>East Asia &amp; Pacific</td>\n    </tr>\n  </tbody>\n</table>\n</div>",
            "text/plain": "   population  fertility  HIV        CO2  BMI_male    GDP  BMI_female  life  \\\n0    34811059       2.73  0.1   3.328945  24.59620  12314    129.9049  75.3   \n1    19842251       6.43  2.0   1.474353  22.25083   7103    130.1247  58.3   \n2    40381860       2.24  0.5   4.785170  27.50170  14646    118.8915  75.5   \n3     2975029       1.40  0.1   1.804106  25.35542   7383    132.8108  72.5   \n4    21370348       1.96  0.1  18.016313  27.56373  41312    117.3755  81.5   \n\n   child_mortality                      Region  \n0             29.5  Middle East & North Africa  \n1            192.0          Sub-Saharan Africa  \n2             15.4                     America  \n3             20.0       Europe & Central Asia  \n4              5.2         East Asia & Pacific  "
          },
          "metadata": {}
        }
      ]
    },
    {
      "metadata": {
        "trusted": true
      },
      "cell_type": "code",
      "source": "df.info()",
      "execution_count": 207,
      "outputs": [
        {
          "output_type": "stream",
          "text": "<class 'pandas.core.frame.DataFrame'>\nRangeIndex: 139 entries, 0 to 138\nData columns (total 10 columns):\npopulation         139 non-null int64\nfertility          139 non-null float64\nHIV                139 non-null float64\nCO2                139 non-null float64\nBMI_male           139 non-null float64\nGDP                139 non-null int64\nBMI_female         139 non-null float64\nlife               139 non-null float64\nchild_mortality    139 non-null float64\nRegion             139 non-null object\ndtypes: float64(7), int64(2), object(1)\nmemory usage: 10.9+ KB\n",
          "name": "stdout"
        }
      ]
    },
    {
      "metadata": {
        "trusted": true
      },
      "cell_type": "code",
      "source": "X = df.drop([\"Region\"],1)\ny = df[\"Region\"]",
      "execution_count": 208,
      "outputs": []
    },
    {
      "metadata": {
        "trusted": true
      },
      "cell_type": "code",
      "source": "from sklearn.tree import DecisionTreeClassifier, DecisionTreeRegressor",
      "execution_count": 209,
      "outputs": []
    },
    {
      "metadata": {
        "trusted": true
      },
      "cell_type": "code",
      "source": "dtc = DecisionTreeClassifier()",
      "execution_count": 210,
      "outputs": []
    },
    {
      "metadata": {
        "trusted": true
      },
      "cell_type": "code",
      "source": "dtc",
      "execution_count": 211,
      "outputs": [
        {
          "output_type": "execute_result",
          "execution_count": 211,
          "data": {
            "text/plain": "DecisionTreeClassifier(class_weight=None, criterion='gini', max_depth=None,\n            max_features=None, max_leaf_nodes=None,\n            min_impurity_decrease=0.0, min_impurity_split=None,\n            min_samples_leaf=1, min_samples_split=2,\n            min_weight_fraction_leaf=0.0, presort=False, random_state=None,\n            splitter='best')"
          },
          "metadata": {}
        }
      ]
    },
    {
      "metadata": {
        "trusted": true
      },
      "cell_type": "code",
      "source": "from sklearn.model_selection import train_test_split as tts, GridSearchCV, RandomizedSearchCV",
      "execution_count": 212,
      "outputs": []
    },
    {
      "metadata": {
        "trusted": true
      },
      "cell_type": "code",
      "source": "X_train, X_test, y_train, y_test = tts(X,y,random_state = 42, test_size = 0.25)",
      "execution_count": 213,
      "outputs": []
    },
    {
      "metadata": {
        "trusted": true
      },
      "cell_type": "code",
      "source": "dtc = DecisionTreeClassifier(random_state=42)",
      "execution_count": 214,
      "outputs": []
    },
    {
      "metadata": {
        "trusted": true
      },
      "cell_type": "code",
      "source": "from sklearn.metrics import accuracy_score, classification_report, confusion_matrix",
      "execution_count": 215,
      "outputs": []
    },
    {
      "metadata": {
        "trusted": true
      },
      "cell_type": "code",
      "source": "dtc.fit(X_train,y_train)",
      "execution_count": 216,
      "outputs": [
        {
          "output_type": "execute_result",
          "execution_count": 216,
          "data": {
            "text/plain": "DecisionTreeClassifier(class_weight=None, criterion='gini', max_depth=None,\n            max_features=None, max_leaf_nodes=None,\n            min_impurity_decrease=0.0, min_impurity_split=None,\n            min_samples_leaf=1, min_samples_split=2,\n            min_weight_fraction_leaf=0.0, presort=False, random_state=42,\n            splitter='best')"
          },
          "metadata": {}
        }
      ]
    },
    {
      "metadata": {
        "trusted": true
      },
      "cell_type": "code",
      "source": "#Accuracy score\ndtc.score(X_test,y_test)",
      "execution_count": 217,
      "outputs": [
        {
          "output_type": "execute_result",
          "execution_count": 217,
          "data": {
            "text/plain": "0.7714285714285715"
          },
          "metadata": {}
        }
      ]
    },
    {
      "metadata": {
        "trusted": true
      },
      "cell_type": "code",
      "source": "y_pred = dtc.predict(X_test)",
      "execution_count": 218,
      "outputs": []
    },
    {
      "metadata": {
        "trusted": true
      },
      "cell_type": "code",
      "source": "print (classification_report(y_test,y_pred))",
      "execution_count": 219,
      "outputs": [
        {
          "output_type": "stream",
          "text": "                            precision    recall  f1-score   support\n\n                   America       0.80      1.00      0.89         4\n       East Asia & Pacific       0.25      0.50      0.33         2\n     Europe & Central Asia       0.76      0.93      0.84        14\nMiddle East & North Africa       0.00      0.00      0.00         4\n                South Asia       0.00      0.00      0.00         1\n        Sub-Saharan Africa       1.00      0.90      0.95        10\n\n                 micro avg       0.77      0.77      0.77        35\n                 macro avg       0.47      0.55      0.50        35\n              weighted avg       0.70      0.77      0.73        35\n\n",
          "name": "stdout"
        },
        {
          "output_type": "stream",
          "text": "/home/nbuser/anaconda3_501/lib/python3.6/site-packages/sklearn/metrics/classification.py:1143: UndefinedMetricWarning: Precision and F-score are ill-defined and being set to 0.0 in labels with no predicted samples.\n  'precision', 'predicted', average, warn_for)\n",
          "name": "stderr"
        }
      ]
    },
    {
      "metadata": {
        "trusted": true
      },
      "cell_type": "code",
      "source": "y.value_counts()",
      "execution_count": 220,
      "outputs": [
        {
          "output_type": "execute_result",
          "execution_count": 220,
          "data": {
            "text/plain": "Europe & Central Asia         41\nSub-Saharan Africa            40\nAmerica                       27\nEast Asia & Pacific           14\nMiddle East & North Africa    10\nSouth Asia                     7\nName: Region, dtype: int64"
          },
          "metadata": {}
        }
      ]
    },
    {
      "metadata": {
        "trusted": true
      },
      "cell_type": "code",
      "source": "print (confusion_matrix(y_test,y_pred))",
      "execution_count": 221,
      "outputs": [
        {
          "output_type": "stream",
          "text": "[[ 4  0  0  0  0  0]\n [ 0  1  1  0  0  0]\n [ 0  1 13  0  0  0]\n [ 1  0  3  0  0  0]\n [ 0  1  0  0  0  0]\n [ 0  1  0  0  0  9]]\n",
          "name": "stdout"
        }
      ]
    },
    {
      "metadata": {
        "trusted": true
      },
      "cell_type": "code",
      "source": "list(X)",
      "execution_count": 222,
      "outputs": [
        {
          "output_type": "execute_result",
          "execution_count": 222,
          "data": {
            "text/plain": "['population',\n 'fertility',\n 'HIV',\n 'CO2',\n 'BMI_male',\n 'GDP',\n 'BMI_female',\n 'life',\n 'child_mortality']"
          },
          "metadata": {}
        }
      ]
    },
    {
      "metadata": {
        "trusted": true
      },
      "cell_type": "code",
      "source": "dtc.feature_importances_",
      "execution_count": 223,
      "outputs": [
        {
          "output_type": "execute_result",
          "execution_count": 223,
          "data": {
            "text/plain": "array([0.03832688, 0.36887615, 0.03050507, 0.        , 0.14649508,\n       0.03959793, 0.1432666 , 0.09141319, 0.14151909])"
          },
          "metadata": {}
        }
      ]
    },
    {
      "metadata": {
        "trusted": true
      },
      "cell_type": "code",
      "source": "dtc = DecisionTreeClassifier(random_state=42, criterion=\"entropy\", max_depth=12, min_samples_split=0.06,class_weight=\"balanced\")",
      "execution_count": 224,
      "outputs": []
    },
    {
      "metadata": {
        "trusted": true
      },
      "cell_type": "code",
      "source": "dtc.fit(X_train,y_train)\nprint(dtc.score(X_test,y_test))",
      "execution_count": 225,
      "outputs": [
        {
          "output_type": "stream",
          "text": "0.7714285714285715\n",
          "name": "stdout"
        }
      ]
    },
    {
      "metadata": {
        "trusted": true
      },
      "cell_type": "code",
      "source": "y_pred_proba = dtc.predict_proba(X_test)\nprint (classification_report(y_test,y_pred))",
      "execution_count": 226,
      "outputs": [
        {
          "output_type": "stream",
          "text": "                            precision    recall  f1-score   support\n\n                   America       0.80      1.00      0.89         4\n       East Asia & Pacific       0.25      0.50      0.33         2\n     Europe & Central Asia       0.76      0.93      0.84        14\nMiddle East & North Africa       0.00      0.00      0.00         4\n                South Asia       0.00      0.00      0.00         1\n        Sub-Saharan Africa       1.00      0.90      0.95        10\n\n                 micro avg       0.77      0.77      0.77        35\n                 macro avg       0.47      0.55      0.50        35\n              weighted avg       0.70      0.77      0.73        35\n\n",
          "name": "stdout"
        },
        {
          "output_type": "stream",
          "text": "/home/nbuser/anaconda3_501/lib/python3.6/site-packages/sklearn/metrics/classification.py:1143: UndefinedMetricWarning: Precision and F-score are ill-defined and being set to 0.0 in labels with no predicted samples.\n  'precision', 'predicted', average, warn_for)\n",
          "name": "stderr"
        }
      ]
    },
    {
      "metadata": {
        "trusted": true
      },
      "cell_type": "code",
      "source": "y_pred_proba",
      "execution_count": 227,
      "outputs": [
        {
          "output_type": "execute_result",
          "execution_count": 227,
          "data": {
            "text/plain": "array([[1.        , 0.        , 0.        , 0.        , 0.        ,\n        0.        ],\n       [0.        , 0.45      , 0.1       , 0.45      , 0.        ,\n        0.        ],\n       [0.        , 0.        , 1.        , 0.        , 0.        ,\n        0.        ],\n       [0.        , 0.        , 0.        , 0.        , 0.        ,\n        1.        ],\n       [0.        , 0.        , 1.        , 0.        , 0.        ,\n        0.        ],\n       [1.        , 0.        , 0.        , 0.        , 0.        ,\n        0.        ],\n       [0.        , 0.        , 0.        , 0.        , 0.        ,\n        1.        ],\n       [0.        , 0.        , 1.        , 0.        , 0.        ,\n        0.        ],\n       [0.        , 0.        , 0.        , 0.        , 0.        ,\n        1.        ],\n       [1.        , 0.        , 0.        , 0.        , 0.        ,\n        0.        ],\n       [0.        , 0.        , 1.        , 0.        , 0.        ,\n        0.        ],\n       [0.        , 0.        , 0.        , 0.        , 0.        ,\n        1.        ],\n       [0.        , 0.        , 0.        , 0.        , 0.        ,\n        1.        ],\n       [0.        , 0.        , 0.        , 0.        , 0.        ,\n        1.        ],\n       [0.        , 0.        , 0.        , 0.        , 0.        ,\n        1.        ],\n       [0.        , 0.        , 1.        , 0.        , 0.        ,\n        0.        ],\n       [0.        , 0.        , 1.        , 0.        , 0.        ,\n        0.        ],\n       [0.        , 0.        , 0.        , 0.        , 0.        ,\n        1.        ],\n       [1.        , 0.        , 0.        , 0.        , 0.        ,\n        0.        ],\n       [0.        , 0.        , 1.        , 0.        , 0.        ,\n        0.        ],\n       [1.        , 0.        , 0.        , 0.        , 0.        ,\n        0.        ],\n       [0.        , 0.33333333, 0.        , 0.        , 0.66666667,\n        0.        ],\n       [0.        , 0.        , 0.        , 0.        , 0.        ,\n        1.        ],\n       [0.        , 0.        , 1.        , 0.        , 0.        ,\n        0.        ],\n       [0.        , 0.        , 1.        , 0.        , 0.        ,\n        0.        ],\n       [1.        , 0.        , 0.        , 0.        , 0.        ,\n        0.        ],\n       [0.        , 0.        , 1.        , 0.        , 0.        ,\n        0.        ],\n       [1.        , 0.        , 0.        , 0.        , 0.        ,\n        0.        ],\n       [0.        , 0.71428571, 0.        , 0.        , 0.        ,\n        0.28571429],\n       [0.        , 0.        , 1.        , 0.        , 0.        ,\n        0.        ],\n       [0.        , 0.        , 1.        , 0.        , 0.        ,\n        0.        ],\n       [0.        , 0.        , 1.        , 0.        , 0.        ,\n        0.        ],\n       [0.        , 0.        , 0.        , 1.        , 0.        ,\n        0.        ],\n       [0.        , 0.        , 1.        , 0.        , 0.        ,\n        0.        ],\n       [0.        , 0.        , 1.        , 0.        , 0.        ,\n        0.        ]])"
          },
          "metadata": {}
        }
      ]
    },
    {
      "metadata": {
        "trusted": true
      },
      "cell_type": "code",
      "source": "DecisionTreeClassifier(class_weight=None, criterion='gini', max_depth=None,\n            max_features=None, max_leaf_nodes=None,\n            min_impurity_decrease=0.0, min_impurity_split=None,\n            min_samples_leaf=1, min_samples_split=2,\n            min_weight_fraction_leaf=0.0, presort=False, random_state=42,\n            splitter='best')",
      "execution_count": 228,
      "outputs": [
        {
          "output_type": "execute_result",
          "execution_count": 228,
          "data": {
            "text/plain": "DecisionTreeClassifier(class_weight=None, criterion='gini', max_depth=None,\n            max_features=None, max_leaf_nodes=None,\n            min_impurity_decrease=0.0, min_impurity_split=None,\n            min_samples_leaf=1, min_samples_split=2,\n            min_weight_fraction_leaf=0.0, presort=False, random_state=42,\n            splitter='best')"
          },
          "metadata": {}
        }
      ]
    },
    {
      "metadata": {
        "trusted": true
      },
      "cell_type": "code",
      "source": "# parameter tuning  criterion=\"entropy\", max_depth=10, min_samples_split=0.06,class_weight=\"balanced\"\nparams = {'criterion':['entropy','gini'],'max_depth':np.arange(2,10),'min_samples_split':np.arange(2,5)}\nnp.arange(1,10)",
      "execution_count": 229,
      "outputs": [
        {
          "output_type": "execute_result",
          "execution_count": 229,
          "data": {
            "text/plain": "array([1, 2, 3, 4, 5, 6, 7, 8, 9])"
          },
          "metadata": {}
        }
      ]
    },
    {
      "metadata": {
        "trusted": true
      },
      "cell_type": "code",
      "source": "dtc = DecisionTreeClassifier(class_weight='balanced')\ndtc_cv = GridSearchCV(dtc,param_grid=params,cv=10)",
      "execution_count": 230,
      "outputs": []
    },
    {
      "metadata": {
        "trusted": true
      },
      "cell_type": "code",
      "source": "dtc_cv.fit(X,y)",
      "execution_count": 231,
      "outputs": [
        {
          "output_type": "stream",
          "text": "/home/nbuser/anaconda3_501/lib/python3.6/site-packages/sklearn/model_selection/_split.py:652: Warning: The least populated class in y has only 7 members, which is too few. The minimum number of members in any class cannot be less than n_splits=10.\n  % (min_groups, self.n_splits)), Warning)\n/home/nbuser/anaconda3_501/lib/python3.6/site-packages/sklearn/model_selection/_search.py:841: DeprecationWarning: The default of the `iid` parameter will change from True to False in version 0.22 and will be removed in 0.24. This will change numeric results when test-set sizes are unequal.\n  DeprecationWarning)\n",
          "name": "stderr"
        },
        {
          "output_type": "execute_result",
          "execution_count": 231,
          "data": {
            "text/plain": "GridSearchCV(cv=10, error_score='raise-deprecating',\n       estimator=DecisionTreeClassifier(class_weight='balanced', criterion='gini',\n            max_depth=None, max_features=None, max_leaf_nodes=None,\n            min_impurity_decrease=0.0, min_impurity_split=None,\n            min_samples_leaf=1, min_samples_split=2,\n            min_weight_fraction_leaf=0.0, presort=False, random_state=None,\n            splitter='best'),\n       fit_params=None, iid='warn', n_jobs=None,\n       param_grid={'criterion': ['entropy', 'gini'], 'max_depth': array([2, 3, 4, 5, 6, 7, 8, 9]), 'min_samples_split': array([2, 3, 4])},\n       pre_dispatch='2*n_jobs', refit=True, return_train_score='warn',\n       scoring=None, verbose=0)"
          },
          "metadata": {}
        }
      ]
    },
    {
      "metadata": {
        "trusted": true
      },
      "cell_type": "code",
      "source": "dtc_cv.best_estimator_",
      "execution_count": 197,
      "outputs": [
        {
          "output_type": "execute_result",
          "execution_count": 197,
          "data": {
            "text/plain": "DecisionTreeClassifier(class_weight='balanced', criterion='entropy',\n            max_depth=6, max_features=None, max_leaf_nodes=None,\n            min_impurity_decrease=0.0, min_impurity_split=None,\n            min_samples_leaf=1, min_samples_split=3,\n            min_weight_fraction_leaf=0.0, presort=False, random_state=None,\n            splitter='best')"
          },
          "metadata": {}
        }
      ]
    },
    {
      "metadata": {
        "trusted": true
      },
      "cell_type": "code",
      "source": "DecisionTreeClassifier(class_weight=None, criterion='gini', max_depth=None,\n            max_features=None, max_leaf_nodes=None,\n            min_impurity_decrease=0.0, min_impurity_split=None,\n            min_samples_leaf=1, min_samples_split=2,\n            min_weight_fraction_leaf=0.0, presort=False, random_state=42,\n            splitter='best')",
      "execution_count": null,
      "outputs": []
    },
    {
      "metadata": {
        "trusted": true
      },
      "cell_type": "code",
      "source": "dtc_cv.best_params_",
      "execution_count": 198,
      "outputs": [
        {
          "output_type": "execute_result",
          "execution_count": 198,
          "data": {
            "text/plain": "{'criterion': 'entropy', 'max_depth': 6, 'min_samples_split': 3}"
          },
          "metadata": {}
        }
      ]
    },
    {
      "metadata": {
        "trusted": true
      },
      "cell_type": "code",
      "source": "print()",
      "execution_count": 199,
      "outputs": [
        {
          "output_type": "execute_result",
          "execution_count": 199,
          "data": {
            "text/plain": "0.7410071942446043"
          },
          "metadata": {}
        }
      ]
    },
    {
      "metadata": {
        "trusted": true
      },
      "cell_type": "code",
      "source": "cv_best_model = dtc_cv.best_estimator_",
      "execution_count": 200,
      "outputs": []
    },
    {
      "metadata": {
        "trusted": true
      },
      "cell_type": "code",
      "source": "cv_best_model.fit(X_train,y_train)\ny_pred = cv_best_model.predict(X_test)",
      "execution_count": 201,
      "outputs": []
    },
    {
      "metadata": {
        "trusted": true
      },
      "cell_type": "code",
      "source": "print (classification_report(y_test,y_pred))",
      "execution_count": 202,
      "outputs": [
        {
          "output_type": "stream",
          "text": "                            precision    recall  f1-score   support\n\n                   America       0.57      1.00      0.73         4\n       East Asia & Pacific       0.33      0.50      0.40         2\n     Europe & Central Asia       0.85      0.79      0.81        14\nMiddle East & North Africa       1.00      0.25      0.40         4\n                South Asia       1.00      1.00      1.00         1\n        Sub-Saharan Africa       0.90      0.90      0.90        10\n\n                 micro avg       0.77      0.77      0.77        35\n                 macro avg       0.78      0.74      0.71        35\n              weighted avg       0.82      0.77      0.76        35\n\n",
          "name": "stdout"
        }
      ]
    },
    {
      "metadata": {
        "trusted": true
      },
      "cell_type": "code",
      "source": "# above u can see recall and precision is improved",
      "execution_count": null,
      "outputs": []
    }
  ],
  "metadata": {
    "kernelspec": {
      "name": "python36",
      "display_name": "Python 3.6",
      "language": "python"
    },
    "language_info": {
      "mimetype": "text/x-python",
      "nbconvert_exporter": "python",
      "name": "python",
      "pygments_lexer": "ipython3",
      "version": "3.6.6",
      "file_extension": ".py",
      "codemirror_mode": {
        "version": 3,
        "name": "ipython"
      }
    }
  },
  "nbformat": 4,
  "nbformat_minor": 2
}