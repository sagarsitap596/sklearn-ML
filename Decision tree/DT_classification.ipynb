{
  "cells": [
    {
      "metadata": {
        "trusted": true
      },
      "cell_type": "code",
      "source": "import pandas as pd",
      "execution_count": 20,
      "outputs": []
    },
    {
      "metadata": {
        "trusted": true
      },
      "cell_type": "code",
      "source": "df = pd.read_csv(\"gapminder.csv\")",
      "execution_count": 21,
      "outputs": []
    },
    {
      "metadata": {
        "trusted": true
      },
      "cell_type": "code",
      "source": "df.head()",
      "execution_count": 22,
      "outputs": [
        {
          "output_type": "execute_result",
          "execution_count": 22,
          "data": {
            "text/html": "<div>\n<style scoped>\n    .dataframe tbody tr th:only-of-type {\n        vertical-align: middle;\n    }\n\n    .dataframe tbody tr th {\n        vertical-align: top;\n    }\n\n    .dataframe thead th {\n        text-align: right;\n    }\n</style>\n<table border=\"1\" class=\"dataframe\">\n  <thead>\n    <tr style=\"text-align: right;\">\n      <th></th>\n      <th>population</th>\n      <th>fertility</th>\n      <th>HIV</th>\n      <th>CO2</th>\n      <th>BMI_male</th>\n      <th>GDP</th>\n      <th>BMI_female</th>\n      <th>life</th>\n      <th>child_mortality</th>\n      <th>Region</th>\n    </tr>\n  </thead>\n  <tbody>\n    <tr>\n      <th>0</th>\n      <td>34811059</td>\n      <td>2.73</td>\n      <td>0.1</td>\n      <td>3.328945</td>\n      <td>24.59620</td>\n      <td>12314</td>\n      <td>129.9049</td>\n      <td>75.3</td>\n      <td>29.5</td>\n      <td>Middle East &amp; North Africa</td>\n    </tr>\n    <tr>\n      <th>1</th>\n      <td>19842251</td>\n      <td>6.43</td>\n      <td>2.0</td>\n      <td>1.474353</td>\n      <td>22.25083</td>\n      <td>7103</td>\n      <td>130.1247</td>\n      <td>58.3</td>\n      <td>192.0</td>\n      <td>Sub-Saharan Africa</td>\n    </tr>\n    <tr>\n      <th>2</th>\n      <td>40381860</td>\n      <td>2.24</td>\n      <td>0.5</td>\n      <td>4.785170</td>\n      <td>27.50170</td>\n      <td>14646</td>\n      <td>118.8915</td>\n      <td>75.5</td>\n      <td>15.4</td>\n      <td>America</td>\n    </tr>\n    <tr>\n      <th>3</th>\n      <td>2975029</td>\n      <td>1.40</td>\n      <td>0.1</td>\n      <td>1.804106</td>\n      <td>25.35542</td>\n      <td>7383</td>\n      <td>132.8108</td>\n      <td>72.5</td>\n      <td>20.0</td>\n      <td>Europe &amp; Central Asia</td>\n    </tr>\n    <tr>\n      <th>4</th>\n      <td>21370348</td>\n      <td>1.96</td>\n      <td>0.1</td>\n      <td>18.016313</td>\n      <td>27.56373</td>\n      <td>41312</td>\n      <td>117.3755</td>\n      <td>81.5</td>\n      <td>5.2</td>\n      <td>East Asia &amp; Pacific</td>\n    </tr>\n  </tbody>\n</table>\n</div>",
            "text/plain": "   population  fertility  HIV        CO2  BMI_male    GDP  BMI_female  life  \\\n0    34811059       2.73  0.1   3.328945  24.59620  12314    129.9049  75.3   \n1    19842251       6.43  2.0   1.474353  22.25083   7103    130.1247  58.3   \n2    40381860       2.24  0.5   4.785170  27.50170  14646    118.8915  75.5   \n3     2975029       1.40  0.1   1.804106  25.35542   7383    132.8108  72.5   \n4    21370348       1.96  0.1  18.016313  27.56373  41312    117.3755  81.5   \n\n   child_mortality                      Region  \n0             29.5  Middle East & North Africa  \n1            192.0          Sub-Saharan Africa  \n2             15.4                     America  \n3             20.0       Europe & Central Asia  \n4              5.2         East Asia & Pacific  "
          },
          "metadata": {}
        }
      ]
    },
    {
      "metadata": {
        "trusted": true
      },
      "cell_type": "code",
      "source": "df.info()",
      "execution_count": 23,
      "outputs": [
        {
          "output_type": "stream",
          "text": "<class 'pandas.core.frame.DataFrame'>\nRangeIndex: 139 entries, 0 to 138\nData columns (total 10 columns):\npopulation         139 non-null int64\nfertility          139 non-null float64\nHIV                139 non-null float64\nCO2                139 non-null float64\nBMI_male           139 non-null float64\nGDP                139 non-null int64\nBMI_female         139 non-null float64\nlife               139 non-null float64\nchild_mortality    139 non-null float64\nRegion             139 non-null object\ndtypes: float64(7), int64(2), object(1)\nmemory usage: 10.9+ KB\n",
          "name": "stdout"
        }
      ]
    },
    {
      "metadata": {
        "trusted": true
      },
      "cell_type": "code",
      "source": "X = df.drop([\"Region\"],1)\ny = df[\"Region\"]",
      "execution_count": 24,
      "outputs": []
    },
    {
      "metadata": {
        "trusted": true
      },
      "cell_type": "code",
      "source": "from sklearn.tree import DecisionTreeClassifier, DecisionTreeRegressor",
      "execution_count": 25,
      "outputs": []
    },
    {
      "metadata": {
        "trusted": true
      },
      "cell_type": "code",
      "source": "dtc = DecisionTreeClassifier()",
      "execution_count": 26,
      "outputs": []
    },
    {
      "metadata": {
        "trusted": true
      },
      "cell_type": "code",
      "source": "dtc",
      "execution_count": 27,
      "outputs": [
        {
          "output_type": "execute_result",
          "execution_count": 27,
          "data": {
            "text/plain": "DecisionTreeClassifier(class_weight=None, criterion='gini', max_depth=None,\n            max_features=None, max_leaf_nodes=None,\n            min_impurity_decrease=0.0, min_impurity_split=None,\n            min_samples_leaf=1, min_samples_split=2,\n            min_weight_fraction_leaf=0.0, presort=False, random_state=None,\n            splitter='best')"
          },
          "metadata": {}
        }
      ]
    },
    {
      "metadata": {
        "trusted": true
      },
      "cell_type": "code",
      "source": "from sklearn.model_selection import train_test_split as tts, GridSearchCV, RandomizedSearchCV",
      "execution_count": 28,
      "outputs": []
    },
    {
      "metadata": {
        "trusted": true
      },
      "cell_type": "code",
      "source": "X_train, X_test, y_train, y_test = tts(X,y,random_state = 42, test_size = 0.25)",
      "execution_count": 29,
      "outputs": []
    },
    {
      "metadata": {
        "trusted": true
      },
      "cell_type": "code",
      "source": "dtc = DecisionTreeClassifier(random_state=42)",
      "execution_count": 30,
      "outputs": []
    },
    {
      "metadata": {
        "trusted": true
      },
      "cell_type": "code",
      "source": "from sklearn.metrics import accuracy_score, classification_report, confusion_matrix",
      "execution_count": 31,
      "outputs": []
    },
    {
      "metadata": {
        "trusted": true
      },
      "cell_type": "code",
      "source": "dtc.fit(X_train,y_train)",
      "execution_count": 32,
      "outputs": [
        {
          "output_type": "execute_result",
          "execution_count": 32,
          "data": {
            "text/plain": "DecisionTreeClassifier(class_weight=None, criterion='gini', max_depth=None,\n            max_features=None, max_leaf_nodes=None,\n            min_impurity_decrease=0.0, min_impurity_split=None,\n            min_samples_leaf=1, min_samples_split=2,\n            min_weight_fraction_leaf=0.0, presort=False, random_state=42,\n            splitter='best')"
          },
          "metadata": {}
        }
      ]
    },
    {
      "metadata": {
        "trusted": true
      },
      "cell_type": "code",
      "source": "#Accuracy score\ndtc.score(X_test,y_test)",
      "execution_count": 33,
      "outputs": [
        {
          "output_type": "execute_result",
          "execution_count": 33,
          "data": {
            "text/plain": "0.7714285714285715"
          },
          "metadata": {}
        }
      ]
    },
    {
      "metadata": {
        "trusted": true
      },
      "cell_type": "code",
      "source": "y_pred = dtc.predict(X_test)",
      "execution_count": 34,
      "outputs": []
    },
    {
      "metadata": {
        "trusted": true
      },
      "cell_type": "code",
      "source": "print (classification_report(y_test,y_pred))",
      "execution_count": 35,
      "outputs": [
        {
          "output_type": "stream",
          "text": "                            precision    recall  f1-score   support\n\n                   America       0.80      1.00      0.89         4\n       East Asia & Pacific       0.25      0.50      0.33         2\n     Europe & Central Asia       0.76      0.93      0.84        14\nMiddle East & North Africa       0.00      0.00      0.00         4\n                South Asia       0.00      0.00      0.00         1\n        Sub-Saharan Africa       1.00      0.90      0.95        10\n\n                 micro avg       0.77      0.77      0.77        35\n                 macro avg       0.47      0.55      0.50        35\n              weighted avg       0.70      0.77      0.73        35\n\n",
          "name": "stdout"
        },
        {
          "output_type": "stream",
          "text": "/home/nbuser/anaconda3_501/lib/python3.6/site-packages/sklearn/metrics/classification.py:1143: UndefinedMetricWarning: Precision and F-score are ill-defined and being set to 0.0 in labels with no predicted samples.\n  'precision', 'predicted', average, warn_for)\n",
          "name": "stderr"
        }
      ]
    },
    {
      "metadata": {
        "trusted": true
      },
      "cell_type": "code",
      "source": "y.value_counts()",
      "execution_count": 36,
      "outputs": [
        {
          "output_type": "execute_result",
          "execution_count": 36,
          "data": {
            "text/plain": "Europe & Central Asia         41\nSub-Saharan Africa            40\nAmerica                       27\nEast Asia & Pacific           14\nMiddle East & North Africa    10\nSouth Asia                     7\nName: Region, dtype: int64"
          },
          "metadata": {}
        }
      ]
    },
    {
      "metadata": {
        "trusted": true
      },
      "cell_type": "code",
      "source": "print (confusion_matrix(y_test,y_pred))",
      "execution_count": 37,
      "outputs": [
        {
          "output_type": "stream",
          "text": "[[ 4  0  0  0  0  0]\n [ 0  1  1  0  0  0]\n [ 0  1 13  0  0  0]\n [ 1  0  3  0  0  0]\n [ 0  1  0  0  0  0]\n [ 0  1  0  0  0  9]]\n",
          "name": "stdout"
        }
      ]
    },
    {
      "metadata": {
        "trusted": true
      },
      "cell_type": "code",
      "source": "list(X)",
      "execution_count": 38,
      "outputs": [
        {
          "output_type": "execute_result",
          "execution_count": 38,
          "data": {
            "text/plain": "['population',\n 'fertility',\n 'HIV',\n 'CO2',\n 'BMI_male',\n 'GDP',\n 'BMI_female',\n 'life',\n 'child_mortality']"
          },
          "metadata": {}
        }
      ]
    },
    {
      "metadata": {
        "trusted": true
      },
      "cell_type": "code",
      "source": "dtc.feature_importances_",
      "execution_count": 39,
      "outputs": [
        {
          "output_type": "execute_result",
          "execution_count": 39,
          "data": {
            "text/plain": "array([0.03832688, 0.36887615, 0.03050507, 0.        , 0.14649508,\n       0.03959793, 0.1432666 , 0.09141319, 0.14151909])"
          },
          "metadata": {}
        }
      ]
    },
    {
      "metadata": {
        "trusted": true
      },
      "cell_type": "code",
      "source": "dtc = DecisionTreeClassifier(random_state=42, criterion=\"entropy\", max_depth=10, min_samples_split=0.06,class_weight=\"balanced\")",
      "execution_count": 40,
      "outputs": []
    },
    {
      "metadata": {
        "trusted": true
      },
      "cell_type": "code",
      "source": "dtc.fit(X_train,X_test)\ny_pred_proba = dtc.predict_proba(X_test)",
      "execution_count": 41,
      "outputs": [
        {
          "output_type": "error",
          "ename": "NotFittedError",
          "evalue": "This DecisionTreeClassifier instance is not fitted yet. Call 'fit' with appropriate arguments before using this method.",
          "traceback": [
            "\u001b[0;31m---------------------------------------------------------------------------\u001b[0m",
            "\u001b[0;31mNotFittedError\u001b[0m                            Traceback (most recent call last)",
            "\u001b[0;32m<ipython-input-41-0f64d914fb78>\u001b[0m in \u001b[0;36m<module>\u001b[0;34m\u001b[0m\n\u001b[0;32m----> 1\u001b[0;31m \u001b[0my_pred_proba\u001b[0m \u001b[0;34m=\u001b[0m \u001b[0mdtc\u001b[0m\u001b[0;34m.\u001b[0m\u001b[0mpredict_proba\u001b[0m\u001b[0;34m(\u001b[0m\u001b[0mX_test\u001b[0m\u001b[0;34m)\u001b[0m\u001b[0;34m\u001b[0m\u001b[0m\n\u001b[0m",
            "\u001b[0;32m~/anaconda3_501/lib/python3.6/site-packages/sklearn/tree/tree.py\u001b[0m in \u001b[0;36mpredict_proba\u001b[0;34m(self, X, check_input)\u001b[0m\n\u001b[1;32m    829\u001b[0m             \u001b[0mclasses\u001b[0m \u001b[0mcorresponds\u001b[0m \u001b[0mto\u001b[0m \u001b[0mthat\u001b[0m \u001b[0;32min\u001b[0m \u001b[0mthe\u001b[0m \u001b[0mattribute\u001b[0m\u001b[0;31m \u001b[0m\u001b[0;31m`\u001b[0m\u001b[0mclasses_\u001b[0m\u001b[0;31m`\u001b[0m\u001b[0;34m.\u001b[0m\u001b[0;34m\u001b[0m\u001b[0m\n\u001b[1;32m    830\u001b[0m         \"\"\"\n\u001b[0;32m--> 831\u001b[0;31m         \u001b[0mcheck_is_fitted\u001b[0m\u001b[0;34m(\u001b[0m\u001b[0mself\u001b[0m\u001b[0;34m,\u001b[0m \u001b[0;34m'tree_'\u001b[0m\u001b[0;34m)\u001b[0m\u001b[0;34m\u001b[0m\u001b[0m\n\u001b[0m\u001b[1;32m    832\u001b[0m         \u001b[0mX\u001b[0m \u001b[0;34m=\u001b[0m \u001b[0mself\u001b[0m\u001b[0;34m.\u001b[0m\u001b[0m_validate_X_predict\u001b[0m\u001b[0;34m(\u001b[0m\u001b[0mX\u001b[0m\u001b[0;34m,\u001b[0m \u001b[0mcheck_input\u001b[0m\u001b[0;34m)\u001b[0m\u001b[0;34m\u001b[0m\u001b[0m\n\u001b[1;32m    833\u001b[0m         \u001b[0mproba\u001b[0m \u001b[0;34m=\u001b[0m \u001b[0mself\u001b[0m\u001b[0;34m.\u001b[0m\u001b[0mtree_\u001b[0m\u001b[0;34m.\u001b[0m\u001b[0mpredict\u001b[0m\u001b[0;34m(\u001b[0m\u001b[0mX\u001b[0m\u001b[0;34m)\u001b[0m\u001b[0;34m\u001b[0m\u001b[0m\n",
            "\u001b[0;32m~/anaconda3_501/lib/python3.6/site-packages/sklearn/utils/validation.py\u001b[0m in \u001b[0;36mcheck_is_fitted\u001b[0;34m(estimator, attributes, msg, all_or_any)\u001b[0m\n\u001b[1;32m    949\u001b[0m \u001b[0;34m\u001b[0m\u001b[0m\n\u001b[1;32m    950\u001b[0m     \u001b[0;32mif\u001b[0m \u001b[0;32mnot\u001b[0m \u001b[0mall_or_any\u001b[0m\u001b[0;34m(\u001b[0m\u001b[0;34m[\u001b[0m\u001b[0mhasattr\u001b[0m\u001b[0;34m(\u001b[0m\u001b[0mestimator\u001b[0m\u001b[0;34m,\u001b[0m \u001b[0mattr\u001b[0m\u001b[0;34m)\u001b[0m \u001b[0;32mfor\u001b[0m \u001b[0mattr\u001b[0m \u001b[0;32min\u001b[0m \u001b[0mattributes\u001b[0m\u001b[0;34m]\u001b[0m\u001b[0;34m)\u001b[0m\u001b[0;34m:\u001b[0m\u001b[0;34m\u001b[0m\u001b[0m\n\u001b[0;32m--> 951\u001b[0;31m         \u001b[0;32mraise\u001b[0m \u001b[0mNotFittedError\u001b[0m\u001b[0;34m(\u001b[0m\u001b[0mmsg\u001b[0m \u001b[0;34m%\u001b[0m \u001b[0;34m{\u001b[0m\u001b[0;34m'name'\u001b[0m\u001b[0;34m:\u001b[0m \u001b[0mtype\u001b[0m\u001b[0;34m(\u001b[0m\u001b[0mestimator\u001b[0m\u001b[0;34m)\u001b[0m\u001b[0;34m.\u001b[0m\u001b[0m__name__\u001b[0m\u001b[0;34m}\u001b[0m\u001b[0;34m)\u001b[0m\u001b[0;34m\u001b[0m\u001b[0m\n\u001b[0m\u001b[1;32m    952\u001b[0m \u001b[0;34m\u001b[0m\u001b[0m\n\u001b[1;32m    953\u001b[0m \u001b[0;34m\u001b[0m\u001b[0m\n",
            "\u001b[0;31mNotFittedError\u001b[0m: This DecisionTreeClassifier instance is not fitted yet. Call 'fit' with appropriate arguments before using this method."
          ]
        }
      ]
    },
    {
      "metadata": {
        "trusted": true
      },
      "cell_type": "code",
      "source": "X_test",
      "execution_count": 39,
      "outputs": [
        {
          "execution_count": 39,
          "output_type": "execute_result",
          "data": {
            "text/html": "<div>\n<style scoped>\n    .dataframe tbody tr th:only-of-type {\n        vertical-align: middle;\n    }\n\n    .dataframe tbody tr th {\n        vertical-align: top;\n    }\n\n    .dataframe thead th {\n        text-align: right;\n    }\n</style>\n<table border=\"1\" class=\"dataframe\">\n  <thead>\n    <tr style=\"text-align: right;\">\n      <th></th>\n      <th>population</th>\n      <th>fertility</th>\n      <th>HIV</th>\n      <th>CO2</th>\n      <th>BMI_male</th>\n      <th>GDP</th>\n      <th>BMI_female</th>\n      <th>life</th>\n      <th>child_mortality</th>\n    </tr>\n  </thead>\n  <tbody>\n    <tr>\n      <th>135</th>\n      <td>26952719</td>\n      <td>2.46</td>\n      <td>0.10</td>\n      <td>4.476669</td>\n      <td>25.32054</td>\n      <td>3733</td>\n      <td>124.3462</td>\n      <td>68.7</td>\n      <td>49.2</td>\n    </tr>\n    <tr>\n      <th>66</th>\n      <td>15915966</td>\n      <td>2.51</td>\n      <td>0.10</td>\n      <td>14.718104</td>\n      <td>26.29078</td>\n      <td>18797</td>\n      <td>128.8517</td>\n      <td>66.1</td>\n      <td>25.9</td>\n    </tr>\n    <tr>\n      <th>31</th>\n      <td>4344151</td>\n      <td>1.43</td>\n      <td>0.06</td>\n      <td>5.287903</td>\n      <td>26.59629</td>\n      <td>21873</td>\n      <td>130.3921</td>\n      <td>76.5</td>\n      <td>5.9</td>\n    </tr>\n    <tr>\n      <th>118</th>\n      <td>34470138</td>\n      <td>4.79</td>\n      <td>1.00</td>\n      <td>0.382118</td>\n      <td>22.40484</td>\n      <td>3246</td>\n      <td>129.7199</td>\n      <td>67.4</td>\n      <td>84.7</td>\n    </tr>\n    <tr>\n      <th>42</th>\n      <td>5314170</td>\n      <td>1.85</td>\n      <td>0.10</td>\n      <td>10.644114</td>\n      <td>26.73339</td>\n      <td>42122</td>\n      <td>126.5645</td>\n      <td>79.4</td>\n      <td>3.3</td>\n    </tr>\n    <tr>\n      <th>12</th>\n      <td>306165</td>\n      <td>2.91</td>\n      <td>2.40</td>\n      <td>1.360126</td>\n      <td>27.02255</td>\n      <td>8293</td>\n      <td>120.9224</td>\n      <td>70.7</td>\n      <td>20.1</td>\n    </tr>\n    <tr>\n      <th>51</th>\n      <td>10427356</td>\n      <td>5.34</td>\n      <td>1.40</td>\n      <td>0.126964</td>\n      <td>22.52449</td>\n      <td>1230</td>\n      <td>132.2765</td>\n      <td>58.3</td>\n      <td>121.0</td>\n    </tr>\n    <tr>\n      <th>68</th>\n      <td>2144215</td>\n      <td>1.50</td>\n      <td>0.60</td>\n      <td>3.341849</td>\n      <td>26.45693</td>\n      <td>20977</td>\n      <td>129.5746</td>\n      <td>72.3</td>\n      <td>10.5</td>\n    </tr>\n    <tr>\n      <th>126</th>\n      <td>6052937</td>\n      <td>4.88</td>\n      <td>3.20</td>\n      <td>0.251983</td>\n      <td>21.87875</td>\n      <td>1219</td>\n      <td>131.0248</td>\n      <td>60.0</td>\n      <td>96.4</td>\n    </tr>\n    <tr>\n      <th>55</th>\n      <td>7259470</td>\n      <td>3.27</td>\n      <td>0.80</td>\n      <td>1.187454</td>\n      <td>25.10872</td>\n      <td>4391</td>\n      <td>122.9621</td>\n      <td>70.9</td>\n      <td>26.5</td>\n    </tr>\n    <tr>\n      <th>112</th>\n      <td>5396710</td>\n      <td>1.31</td>\n      <td>0.06</td>\n      <td>6.901654</td>\n      <td>26.92717</td>\n      <td>24670</td>\n      <td>129.5280</td>\n      <td>74.8</td>\n      <td>8.8</td>\n    </tr>\n    <tr>\n      <th>130</th>\n      <td>31014427</td>\n      <td>6.34</td>\n      <td>6.40</td>\n      <td>0.100853</td>\n      <td>22.35833</td>\n      <td>1437</td>\n      <td>134.5204</td>\n      <td>57.2</td>\n      <td>89.3</td>\n    </tr>\n    <tr>\n      <th>80</th>\n      <td>3414552</td>\n      <td>4.94</td>\n      <td>0.70</td>\n      <td>0.613104</td>\n      <td>22.62295</td>\n      <td>3356</td>\n      <td>129.9875</td>\n      <td>63.6</td>\n      <td>103.0</td>\n    </tr>\n    <tr>\n      <th>19</th>\n      <td>14709011</td>\n      <td>6.04</td>\n      <td>1.20</td>\n      <td>0.109419</td>\n      <td>21.27157</td>\n      <td>1358</td>\n      <td>130.6651</td>\n      <td>59.4</td>\n      <td>130.4</td>\n    </tr>\n    <tr>\n      <th>86</th>\n      <td>22994867</td>\n      <td>5.54</td>\n      <td>11.40</td>\n      <td>0.104748</td>\n      <td>21.93536</td>\n      <td>864</td>\n      <td>135.3949</td>\n      <td>55.0</td>\n      <td>114.4</td>\n    </tr>\n    <tr>\n      <th>69</th>\n      <td>4109389</td>\n      <td>1.57</td>\n      <td>0.10</td>\n      <td>3.996722</td>\n      <td>27.20117</td>\n      <td>14158</td>\n      <td>127.5037</td>\n      <td>77.6</td>\n      <td>11.3</td>\n    </tr>\n    <tr>\n      <th>11</th>\n      <td>10779155</td>\n      <td>1.82</td>\n      <td>0.20</td>\n      <td>9.797337</td>\n      <td>26.75915</td>\n      <td>41641</td>\n      <td>121.8227</td>\n      <td>79.4</td>\n      <td>4.7</td>\n    </tr>\n    <tr>\n      <th>27</th>\n      <td>665414</td>\n      <td>5.05</td>\n      <td>0.06</td>\n      <td>0.178853</td>\n      <td>22.06131</td>\n      <td>1440</td>\n      <td>132.1354</td>\n      <td>62.6</td>\n      <td>91.2</td>\n    </tr>\n    <tr>\n      <th>134</th>\n      <td>3350832</td>\n      <td>2.11</td>\n      <td>0.50</td>\n      <td>2.489764</td>\n      <td>26.39123</td>\n      <td>15317</td>\n      <td>124.2604</td>\n      <td>76.0</td>\n      <td>13.0</td>\n    </tr>\n    <tr>\n      <th>109</th>\n      <td>9109535</td>\n      <td>1.41</td>\n      <td>0.10</td>\n      <td>5.271223</td>\n      <td>26.51495</td>\n      <td>12522</td>\n      <td>130.3755</td>\n      <td>76.4</td>\n      <td>8.0</td>\n    </tr>\n    <tr>\n      <th>36</th>\n      <td>78976122</td>\n      <td>2.95</td>\n      <td>0.06</td>\n      <td>2.512394</td>\n      <td>26.73243</td>\n      <td>9974</td>\n      <td>125.0931</td>\n      <td>70.1</td>\n      <td>31.4</td>\n    </tr>\n    <tr>\n      <th>117</th>\n      <td>19949553</td>\n      <td>2.32</td>\n      <td>0.06</td>\n      <td>0.580791</td>\n      <td>21.96671</td>\n      <td>6907</td>\n      <td>124.8615</td>\n      <td>74.3</td>\n      <td>11.7</td>\n    </tr>\n    <tr>\n      <th>78</th>\n      <td>14223403</td>\n      <td>6.82</td>\n      <td>1.00</td>\n      <td>0.041079</td>\n      <td>21.78881</td>\n      <td>1602</td>\n      <td>128.0308</td>\n      <td>55.8</td>\n      <td>148.3</td>\n    </tr>\n    <tr>\n      <th>4</th>\n      <td>21370348</td>\n      <td>1.96</td>\n      <td>0.10</td>\n      <td>18.016313</td>\n      <td>27.56373</td>\n      <td>41312</td>\n      <td>117.3755</td>\n      <td>81.5</td>\n      <td>5.2</td>\n    </tr>\n    <tr>\n      <th>73</th>\n      <td>485079</td>\n      <td>1.63</td>\n      <td>0.30</td>\n      <td>22.168080</td>\n      <td>27.43404</td>\n      <td>95001</td>\n      <td>122.3705</td>\n      <td>80.7</td>\n      <td>2.8</td>\n    </tr>\n    <tr>\n      <th>26</th>\n      <td>44901660</td>\n      <td>2.43</td>\n      <td>0.50</td>\n      <td>1.476092</td>\n      <td>24.94041</td>\n      <td>10489</td>\n      <td>124.0235</td>\n      <td>75.1</td>\n      <td>19.7</td>\n    </tr>\n    <tr>\n      <th>132</th>\n      <td>61689620</td>\n      <td>1.87</td>\n      <td>0.20</td>\n      <td>8.526467</td>\n      <td>27.39249</td>\n      <td>37739</td>\n      <td>124.0845</td>\n      <td>79.5</td>\n      <td>5.6</td>\n    </tr>\n    <tr>\n      <th>60</th>\n      <td>72530693</td>\n      <td>1.88</td>\n      <td>0.20</td>\n      <td>7.892211</td>\n      <td>25.31003</td>\n      <td>15955</td>\n      <td>125.1859</td>\n      <td>76.9</td>\n      <td>21.4</td>\n    </tr>\n    <tr>\n      <th>16</th>\n      <td>1967866</td>\n      <td>2.86</td>\n      <td>24.90</td>\n      <td>2.547205</td>\n      <td>22.12984</td>\n      <td>13858</td>\n      <td>133.1307</td>\n      <td>61.2</td>\n      <td>63.8</td>\n    </tr>\n    <tr>\n      <th>18</th>\n      <td>7513646</td>\n      <td>1.43</td>\n      <td>0.10</td>\n      <td>6.690139</td>\n      <td>26.54286</td>\n      <td>15368</td>\n      <td>128.4721</td>\n      <td>73.2</td>\n      <td>13.7</td>\n    </tr>\n    <tr>\n      <th>10</th>\n      <td>9526453</td>\n      <td>1.42</td>\n      <td>0.20</td>\n      <td>6.488174</td>\n      <td>26.16443</td>\n      <td>14488</td>\n      <td>129.7968</td>\n      <td>70.1</td>\n      <td>7.2</td>\n    </tr>\n    <tr>\n      <th>56</th>\n      <td>10050699</td>\n      <td>1.33</td>\n      <td>0.06</td>\n      <td>5.453232</td>\n      <td>27.11568</td>\n      <td>23334</td>\n      <td>128.6968</td>\n      <td>73.8</td>\n      <td>7.2</td>\n    </tr>\n    <tr>\n      <th>104</th>\n      <td>1388962</td>\n      <td>2.20</td>\n      <td>0.06</td>\n      <td>48.702062</td>\n      <td>28.13138</td>\n      <td>126076</td>\n      <td>126.3153</td>\n      <td>80.4</td>\n      <td>9.5</td>\n    </tr>\n    <tr>\n      <th>65</th>\n      <td>127317900</td>\n      <td>1.34</td>\n      <td>0.06</td>\n      <td>9.536606</td>\n      <td>23.50004</td>\n      <td>34800</td>\n      <td>121.9651</td>\n      <td>82.6</td>\n      <td>3.4</td>\n    </tr>\n    <tr>\n      <th>105</th>\n      <td>20741669</td>\n      <td>1.34</td>\n      <td>0.10</td>\n      <td>4.383449</td>\n      <td>25.41069</td>\n      <td>18032</td>\n      <td>128.7553</td>\n      <td>73.4</td>\n      <td>16.1</td>\n    </tr>\n  </tbody>\n</table>\n</div>",
            "text/plain": "     population  fertility    HIV        CO2  BMI_male     GDP  BMI_female  \\\n135    26952719       2.46   0.10   4.476669  25.32054    3733    124.3462   \n66     15915966       2.51   0.10  14.718104  26.29078   18797    128.8517   \n31      4344151       1.43   0.06   5.287903  26.59629   21873    130.3921   \n118    34470138       4.79   1.00   0.382118  22.40484    3246    129.7199   \n42      5314170       1.85   0.10  10.644114  26.73339   42122    126.5645   \n12       306165       2.91   2.40   1.360126  27.02255    8293    120.9224   \n51     10427356       5.34   1.40   0.126964  22.52449    1230    132.2765   \n68      2144215       1.50   0.60   3.341849  26.45693   20977    129.5746   \n126     6052937       4.88   3.20   0.251983  21.87875    1219    131.0248   \n55      7259470       3.27   0.80   1.187454  25.10872    4391    122.9621   \n112     5396710       1.31   0.06   6.901654  26.92717   24670    129.5280   \n130    31014427       6.34   6.40   0.100853  22.35833    1437    134.5204   \n80      3414552       4.94   0.70   0.613104  22.62295    3356    129.9875   \n19     14709011       6.04   1.20   0.109419  21.27157    1358    130.6651   \n86     22994867       5.54  11.40   0.104748  21.93536     864    135.3949   \n69      4109389       1.57   0.10   3.996722  27.20117   14158    127.5037   \n11     10779155       1.82   0.20   9.797337  26.75915   41641    121.8227   \n27       665414       5.05   0.06   0.178853  22.06131    1440    132.1354   \n134     3350832       2.11   0.50   2.489764  26.39123   15317    124.2604   \n109     9109535       1.41   0.10   5.271223  26.51495   12522    130.3755   \n36     78976122       2.95   0.06   2.512394  26.73243    9974    125.0931   \n117    19949553       2.32   0.06   0.580791  21.96671    6907    124.8615   \n78     14223403       6.82   1.00   0.041079  21.78881    1602    128.0308   \n4      21370348       1.96   0.10  18.016313  27.56373   41312    117.3755   \n73       485079       1.63   0.30  22.168080  27.43404   95001    122.3705   \n26     44901660       2.43   0.50   1.476092  24.94041   10489    124.0235   \n132    61689620       1.87   0.20   8.526467  27.39249   37739    124.0845   \n60     72530693       1.88   0.20   7.892211  25.31003   15955    125.1859   \n16      1967866       2.86  24.90   2.547205  22.12984   13858    133.1307   \n18      7513646       1.43   0.10   6.690139  26.54286   15368    128.4721   \n10      9526453       1.42   0.20   6.488174  26.16443   14488    129.7968   \n56     10050699       1.33   0.06   5.453232  27.11568   23334    128.6968   \n104     1388962       2.20   0.06  48.702062  28.13138  126076    126.3153   \n65    127317900       1.34   0.06   9.536606  23.50004   34800    121.9651   \n105    20741669       1.34   0.10   4.383449  25.41069   18032    128.7553   \n\n     life  child_mortality  \n135  68.7             49.2  \n66   66.1             25.9  \n31   76.5              5.9  \n118  67.4             84.7  \n42   79.4              3.3  \n12   70.7             20.1  \n51   58.3            121.0  \n68   72.3             10.5  \n126  60.0             96.4  \n55   70.9             26.5  \n112  74.8              8.8  \n130  57.2             89.3  \n80   63.6            103.0  \n19   59.4            130.4  \n86   55.0            114.4  \n69   77.6             11.3  \n11   79.4              4.7  \n27   62.6             91.2  \n134  76.0             13.0  \n109  76.4              8.0  \n36   70.1             31.4  \n117  74.3             11.7  \n78   55.8            148.3  \n4    81.5              5.2  \n73   80.7              2.8  \n26   75.1             19.7  \n132  79.5              5.6  \n60   76.9             21.4  \n16   61.2             63.8  \n18   73.2             13.7  \n10   70.1              7.2  \n56   73.8              7.2  \n104  80.4              9.5  \n65   82.6              3.4  \n105  73.4             16.1  "
          },
          "metadata": {}
        }
      ]
    },
    {
      "metadata": {
        "trusted": true
      },
      "cell_type": "code",
      "source": "y_pred_proba",
      "execution_count": 41,
      "outputs": [
        {
          "execution_count": 41,
          "output_type": "execute_result",
          "data": {
            "text/plain": "array([[1.        , 0.        , 0.        , 0.        , 0.        ,\n        0.        ],\n       [0.        , 0.45      , 0.1       , 0.45      , 0.        ,\n        0.        ],\n       [0.        , 0.        , 1.        , 0.        , 0.        ,\n        0.        ],\n       [0.        , 0.        , 0.        , 0.        , 0.        ,\n        1.        ],\n       [0.        , 0.        , 1.        , 0.        , 0.        ,\n        0.        ],\n       [1.        , 0.        , 0.        , 0.        , 0.        ,\n        0.        ],\n       [0.        , 0.        , 0.        , 0.        , 0.        ,\n        1.        ],\n       [0.        , 0.        , 1.        , 0.        , 0.        ,\n        0.        ],\n       [0.        , 0.        , 0.        , 0.        , 0.        ,\n        1.        ],\n       [1.        , 0.        , 0.        , 0.        , 0.        ,\n        0.        ],\n       [0.        , 0.        , 1.        , 0.        , 0.        ,\n        0.        ],\n       [0.        , 0.        , 0.        , 0.        , 0.        ,\n        1.        ],\n       [0.        , 0.        , 0.        , 0.        , 0.        ,\n        1.        ],\n       [0.        , 0.        , 0.        , 0.        , 0.        ,\n        1.        ],\n       [0.        , 0.        , 0.        , 0.        , 0.        ,\n        1.        ],\n       [0.        , 0.        , 1.        , 0.        , 0.        ,\n        0.        ],\n       [0.        , 0.        , 1.        , 0.        , 0.        ,\n        0.        ],\n       [0.        , 0.        , 0.        , 0.        , 0.        ,\n        1.        ],\n       [1.        , 0.        , 0.        , 0.        , 0.        ,\n        0.        ],\n       [0.        , 0.        , 1.        , 0.        , 0.        ,\n        0.        ],\n       [1.        , 0.        , 0.        , 0.        , 0.        ,\n        0.        ],\n       [0.        , 0.33333333, 0.        , 0.        , 0.66666667,\n        0.        ],\n       [0.        , 0.        , 0.        , 0.        , 0.        ,\n        1.        ],\n       [0.        , 0.        , 1.        , 0.        , 0.        ,\n        0.        ],\n       [0.        , 0.        , 1.        , 0.        , 0.        ,\n        0.        ],\n       [1.        , 0.        , 0.        , 0.        , 0.        ,\n        0.        ],\n       [0.        , 0.        , 1.        , 0.        , 0.        ,\n        0.        ],\n       [1.        , 0.        , 0.        , 0.        , 0.        ,\n        0.        ],\n       [0.        , 0.71428571, 0.        , 0.        , 0.        ,\n        0.28571429],\n       [0.        , 0.        , 1.        , 0.        , 0.        ,\n        0.        ],\n       [0.        , 0.        , 1.        , 0.        , 0.        ,\n        0.        ],\n       [0.        , 0.        , 1.        , 0.        , 0.        ,\n        0.        ],\n       [0.        , 0.        , 0.        , 1.        , 0.        ,\n        0.        ],\n       [0.        , 0.        , 1.        , 0.        , 0.        ,\n        0.        ],\n       [0.        , 0.        , 1.        , 0.        , 0.        ,\n        0.        ]])"
          },
          "metadata": {}
        }
      ]
    },
    {
      "metadata": {
        "trusted": true
      },
      "cell_type": "code",
      "source": "df = pd.read_csv(\"gapminder (1).csv\")",
      "execution_count": 42,
      "outputs": []
    },
    {
      "metadata": {
        "trusted": true
      },
      "cell_type": "code",
      "source": "from sklearn.preprocessing import LabelEncoder\nle = LabelEncoder()\nX = df.drop([\"life\"],1)\ny = df[\"life\"]\nX[\"Region\"] = le.fit_transform(X[\"Region\"])\nX_train, X_test, y_train, y_test = tts(X,y,random_state = 42, test_size = 0.25)",
      "execution_count": 48,
      "outputs": []
    },
    {
      "metadata": {
        "trusted": true
      },
      "cell_type": "code",
      "source": "dtr = DecisionTreeRegressor(random_state=42, max_depth=4, min_samples_split=0.12, criterion=\"friedman_mse\")",
      "execution_count": 78,
      "outputs": []
    },
    {
      "metadata": {
        "trusted": true
      },
      "cell_type": "code",
      "source": "dtr",
      "execution_count": 79,
      "outputs": [
        {
          "execution_count": 79,
          "output_type": "execute_result",
          "data": {
            "text/plain": "DecisionTreeRegressor(criterion='friedman_mse', max_depth=4,\n           max_features=None, max_leaf_nodes=None,\n           min_impurity_decrease=0.0, min_impurity_split=None,\n           min_samples_leaf=1, min_samples_split=0.12,\n           min_weight_fraction_leaf=0.0, presort=False, random_state=42,\n           splitter='best')"
          },
          "metadata": {}
        }
      ]
    },
    {
      "metadata": {
        "trusted": true
      },
      "cell_type": "code",
      "source": "dtr.fit(X_train,y_train)\ndtr.score(X_test,y_test)",
      "execution_count": 80,
      "outputs": [
        {
          "execution_count": 80,
          "output_type": "execute_result",
          "data": {
            "text/plain": "0.802932134506581"
          },
          "metadata": {}
        }
      ]
    },
    {
      "metadata": {
        "trusted": true
      },
      "cell_type": "code",
      "source": "print (list(X))",
      "execution_count": 81,
      "outputs": [
        {
          "text": "['population', 'fertility', 'HIV', 'CO2', 'BMI_male', 'GDP', 'BMI_female', 'child_mortality', 'Region']\n",
          "name": "stdout",
          "output_type": "stream"
        }
      ]
    },
    {
      "metadata": {
        "trusted": true
      },
      "cell_type": "code",
      "source": "dtr.feature_importances_",
      "execution_count": 82,
      "outputs": [
        {
          "execution_count": 82,
          "output_type": "execute_result",
          "data": {
            "text/plain": "array([0.00693171, 0.        , 0.06093169, 0.00102591, 0.        ,\n       0.01127123, 0.00925062, 0.91058884, 0.        ])"
          },
          "metadata": {}
        }
      ]
    },
    {
      "metadata": {
        "trusted": true
      },
      "cell_type": "code",
      "source": "from sklearn.metrics import mean_squared_error, mean_absolute_error, r2_score\nimport numpy as np\n",
      "execution_count": 83,
      "outputs": []
    },
    {
      "metadata": {
        "trusted": true
      },
      "cell_type": "code",
      "source": "y_pred = dtr.predict(X_test)",
      "execution_count": 84,
      "outputs": []
    },
    {
      "metadata": {
        "trusted": true
      },
      "cell_type": "code",
      "source": "r2_score(y_test,y_pred)",
      "execution_count": 85,
      "outputs": [
        {
          "execution_count": 85,
          "output_type": "execute_result",
          "data": {
            "text/plain": "0.802932134506581"
          },
          "metadata": {}
        }
      ]
    },
    {
      "metadata": {
        "trusted": true
      },
      "cell_type": "code",
      "source": "mean_squared_error(y_test,y_pred)",
      "execution_count": 86,
      "outputs": [
        {
          "execution_count": 86,
          "output_type": "execute_result",
          "data": {
            "text/plain": "12.527152159863968"
          },
          "metadata": {}
        }
      ]
    },
    {
      "metadata": {
        "trusted": false
      },
      "cell_type": "code",
      "source": "",
      "execution_count": null,
      "outputs": []
    },
    {
      "metadata": {
        "trusted": false
      },
      "cell_type": "code",
      "source": "",
      "execution_count": null,
      "outputs": []
    },
    {
      "metadata": {
        "trusted": false
      },
      "cell_type": "code",
      "source": "",
      "execution_count": null,
      "outputs": []
    }
  ],
  "metadata": {
    "kernelspec": {
      "name": "python36",
      "display_name": "Python 3.6",
      "language": "python"
    },
    "language_info": {
      "mimetype": "text/x-python",
      "nbconvert_exporter": "python",
      "name": "python",
      "pygments_lexer": "ipython3",
      "version": "3.6.6",
      "file_extension": ".py",
      "codemirror_mode": {
        "version": 3,
        "name": "ipython"
      }
    }
  },
  "nbformat": 4,
  "nbformat_minor": 2
}