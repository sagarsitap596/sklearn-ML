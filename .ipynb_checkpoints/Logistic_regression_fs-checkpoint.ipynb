{
  "cells": [
    {
      "metadata": {
        "trusted": true
      },
      "cell_type": "code",
      "source": "%%time\nimport time\nstart = time.time()\nimport pandas as pd\nimport numpy as np\nfrom sklearn.preprocessing import StandardScaler\nfrom sklearn.preprocessing import LabelEncoder\nfrom sklearn.linear_model import LogisticRegression\nfrom sklearn.model_selection import  GridSearchCV, train_test_split as tts\nfrom sklearn.metrics import confusion_matrix, classification_report, accuracy_score, roc_auc_score, roc_curve\nimport warnings\nwarnings.filterwarnings(\"ignore\")",
      "execution_count": 17,
      "outputs": [
        {
          "output_type": "stream",
          "text": "CPU times: user 112 µs, sys: 0 ns, total: 112 µs\nWall time: 120 µs\n",
          "name": "stdout"
        }
      ]
    },
    {
      "metadata": {
        "trusted": true
      },
      "cell_type": "code",
      "source": "df.head()",
      "execution_count": 18,
      "outputs": [
        {
          "output_type": "execute_result",
          "execution_count": 18,
          "data": {
            "text/html": "<div>\n<style scoped>\n    .dataframe tbody tr th:only-of-type {\n        vertical-align: middle;\n    }\n\n    .dataframe tbody tr th {\n        vertical-align: top;\n    }\n\n    .dataframe thead th {\n        text-align: right;\n    }\n</style>\n<table border=\"1\" class=\"dataframe\">\n  <thead>\n    <tr style=\"text-align: right;\">\n      <th></th>\n      <th>age</th>\n      <th>workclass</th>\n      <th>fnlwgt</th>\n      <th>education</th>\n      <th>education.num</th>\n      <th>marital.status</th>\n      <th>occupation</th>\n      <th>relationship</th>\n      <th>race</th>\n      <th>sex</th>\n      <th>capital.gain</th>\n      <th>capital.loss</th>\n      <th>hours.per.week</th>\n      <th>native.country</th>\n      <th>income</th>\n    </tr>\n  </thead>\n  <tbody>\n    <tr>\n      <th>0</th>\n      <td>90</td>\n      <td>Private</td>\n      <td>77053</td>\n      <td>HS-grad</td>\n      <td>9</td>\n      <td>Widowed</td>\n      <td>Prof-specialty</td>\n      <td>Not-in-family</td>\n      <td>White</td>\n      <td>Female</td>\n      <td>0</td>\n      <td>4356</td>\n      <td>40</td>\n      <td>United-States</td>\n      <td>0</td>\n    </tr>\n    <tr>\n      <th>1</th>\n      <td>82</td>\n      <td>Private</td>\n      <td>132870</td>\n      <td>HS-grad</td>\n      <td>9</td>\n      <td>Widowed</td>\n      <td>Exec-managerial</td>\n      <td>Not-in-family</td>\n      <td>White</td>\n      <td>Female</td>\n      <td>0</td>\n      <td>4356</td>\n      <td>18</td>\n      <td>United-States</td>\n      <td>0</td>\n    </tr>\n    <tr>\n      <th>2</th>\n      <td>66</td>\n      <td>Private</td>\n      <td>186061</td>\n      <td>Some-college</td>\n      <td>10</td>\n      <td>Widowed</td>\n      <td>Prof-specialty</td>\n      <td>Unmarried</td>\n      <td>Black</td>\n      <td>Female</td>\n      <td>0</td>\n      <td>4356</td>\n      <td>40</td>\n      <td>United-States</td>\n      <td>0</td>\n    </tr>\n    <tr>\n      <th>3</th>\n      <td>54</td>\n      <td>Private</td>\n      <td>140359</td>\n      <td>7th-8th</td>\n      <td>4</td>\n      <td>Divorced</td>\n      <td>Machine-op-inspct</td>\n      <td>Unmarried</td>\n      <td>White</td>\n      <td>Female</td>\n      <td>0</td>\n      <td>3900</td>\n      <td>40</td>\n      <td>United-States</td>\n      <td>0</td>\n    </tr>\n    <tr>\n      <th>4</th>\n      <td>41</td>\n      <td>Private</td>\n      <td>264663</td>\n      <td>Some-college</td>\n      <td>10</td>\n      <td>Separated</td>\n      <td>Prof-specialty</td>\n      <td>Own-child</td>\n      <td>White</td>\n      <td>Female</td>\n      <td>0</td>\n      <td>3900</td>\n      <td>40</td>\n      <td>United-States</td>\n      <td>0</td>\n    </tr>\n  </tbody>\n</table>\n</div>",
            "text/plain": "   age workclass  fnlwgt     education  education.num marital.status  \\\n0   90   Private   77053       HS-grad              9        Widowed   \n1   82   Private  132870       HS-grad              9        Widowed   \n2   66   Private  186061  Some-college             10        Widowed   \n3   54   Private  140359       7th-8th              4       Divorced   \n4   41   Private  264663  Some-college             10      Separated   \n\n          occupation   relationship   race     sex  capital.gain  \\\n0     Prof-specialty  Not-in-family  White  Female             0   \n1    Exec-managerial  Not-in-family  White  Female             0   \n2     Prof-specialty      Unmarried  Black  Female             0   \n3  Machine-op-inspct      Unmarried  White  Female             0   \n4     Prof-specialty      Own-child  White  Female             0   \n\n   capital.loss  hours.per.week native.country  income  \n0          4356              40  United-States       0  \n1          4356              18  United-States       0  \n2          4356              40  United-States       0  \n3          3900              40  United-States       0  \n4          3900              40  United-States       0  "
          },
          "metadata": {}
        }
      ]
    },
    {
      "metadata": {
        "trusted": true
      },
      "cell_type": "code",
      "source": "%%time\ndf = pd.read_csv(\"adult.csv\")\n\n#Replace ? with NaN and then replce NaN by Mean/mode of the column\nremoval= df.isin(['?']).any()[df.isin(['?']).any()==True].index.tolist()\nfor col in removal:\n        df[col]= df[col].replace(\"?\", np.NaN)\n        try:\n            df[col] = df[col].astype(float)\n            mean = (df[col].mean(skipna=True))\n        except:\n            mean = df[col].mode()\n            mean = mean[0]\n        df[col]= df[col].replace(np.NaN, mean)\ndf_clean = df\n\n# label encode Y axis (income) Since there are two values : <=50k and >50k\nle = LabelEncoder()\ndf[\"income\"] = le.fit_transform(df[\"income\"])\n\n# Select X axis\nX = df.drop([\"income\"],1)\n\n# Select y axis\ny = df[\"income\"]\n\n#Select Numerical columns \nnum = X.select_dtypes(include = np.number)\n\n#Select Categorical columns \ncat = X.select_dtypes(exclude = np.number)\n\n# make all values of categorical to lower case to make them standard\nfor x in list(cat):\n    cat[x] = cat[x].str.lower()",
      "execution_count": 19,
      "outputs": [
        {
          "output_type": "stream",
          "text": "CPU times: user 1.33 s, sys: 0 ns, total: 1.33 s\nWall time: 2.07 s\n",
          "name": "stdout"
        }
      ]
    },
    {
      "metadata": {
        "trusted": true
      },
      "cell_type": "code",
      "source": "# Drop Education column since we have education.num column which is same as education\ncat.drop([\"education\"],1,inplace = True)\n\n# OneHotEncoding all categorical columns\ncat = pd.get_dummies(cat, drop_first=True)\n\n# Scale Numerical columns\nscaler = StandardScaler()\nnum = pd.DataFrame(scaler.fit_transform(num), columns=list(num))",
      "execution_count": 20,
      "outputs": []
    },
    {
      "metadata": {
        "trusted": true
      },
      "cell_type": "code",
      "source": "def remove_outlier(X,y,z):\n    scaler = StandardScaler()\n    scaled_X = pd.DataFrame(scaler.fit_transform(X), columns=list(X))\n    for column_name in list(X):\n        scaled_X = scaled_X[(scaled_X[column_name] > -3 ) & (scaled_X[column_name] < 3 )]\n        indexes = scaled_X.index\n        X = X.loc[indexes]\n        y = y.loc[indexes]\n        z = z.loc[indexes]\n    return(X,y,z)\n\nprint(num.shape)\nprint(y.shape)\nprint(cat.shape)\n# num,y,cat = remove_outlier(num,y,cat)\n# num.shape",
      "execution_count": 21,
      "outputs": [
        {
          "output_type": "stream",
          "text": "(32561, 6)\n(32561,)\n(32561, 76)\n",
          "name": "stdout"
        }
      ]
    },
    {
      "metadata": {
        "trusted": true
      },
      "cell_type": "code",
      "source": "X = pd.concat([num,cat],1)\ny = y",
      "execution_count": 4,
      "outputs": []
    },
    {
      "metadata": {
        "trusted": true
      },
      "cell_type": "code",
      "source": "",
      "execution_count": null,
      "outputs": []
    },
    {
      "metadata": {
        "trusted": true
      },
      "cell_type": "code",
      "source": "log_reg = LogisticRegression(random_state=42)",
      "execution_count": 5,
      "outputs": []
    },
    {
      "metadata": {
        "trusted": true
      },
      "cell_type": "code",
      "source": "\nlog_reg.fit(X,y)\nlog_reg.score(X,y)",
      "execution_count": 6,
      "outputs": [
        {
          "output_type": "execute_result",
          "execution_count": 6,
          "data": {
            "text/plain": "0.8538286174064638"
          },
          "metadata": {}
        }
      ]
    },
    {
      "metadata": {
        "trusted": true
      },
      "cell_type": "code",
      "source": "%%time\nX_train, X_test, y_train, y_test = tts(X,y,test_size = 0.25, random_state = 42)\nlog_reg.fit(X_train,y_train)\ny_pred = log_reg.predict(X_test)\nprint (accuracy_score(y_test,y_pred))\nprint (classification_report(y_test,y_pred))",
      "execution_count": 7,
      "outputs": [
        {
          "output_type": "stream",
          "text": "0.8507442671315543\n              precision    recall  f1-score   support\n\n           0       0.88      0.93      0.91      5786\n           1       0.71      0.56      0.63      1671\n\n    accuracy                           0.85      7457\n   macro avg       0.80      0.75      0.77      7457\nweighted avg       0.84      0.85      0.84      7457\n\nCPU times: user 678 ms, sys: 60.7 ms, total: 739 ms\nWall time: 632 ms\n",
          "name": "stdout"
        }
      ]
    },
    {
      "metadata": {
        "trusted": true
      },
      "cell_type": "code",
      "source": "print (confusion_matrix(y_test,y_pred))\n",
      "execution_count": 8,
      "outputs": [
        {
          "output_type": "stream",
          "text": "[[5401  385]\n [ 728  943]]\n",
          "name": "stdout"
        }
      ]
    },
    {
      "metadata": {
        "trusted": true
      },
      "cell_type": "code",
      "source": "print (roc_auc_score(y_test,y_pred))",
      "execution_count": 9,
      "outputs": [
        {
          "output_type": "stream",
          "text": "0.7488964054674577\n",
          "name": "stdout"
        }
      ]
    },
    {
      "metadata": {
        "trusted": true
      },
      "cell_type": "code",
      "source": "\ndef extract_best_features(model,n):\n    features = list(X)\n    fs = pd.DataFrame()\n    ranking = pd.Series(model.coef_[0])\n    fs[\"features\"] = features\n    fs[\"ranking\"] = ranking\n    fs[\"ranking\"] = np.abs(fs[\"ranking\"])\n    fs = fs.sort_values([\"ranking\"], ascending=False)\n    fs = fs[:n]\n    return fs",
      "execution_count": 10,
      "outputs": []
    },
    {
      "metadata": {
        "trusted": true
      },
      "cell_type": "code",
      "source": "log_reg",
      "execution_count": 11,
      "outputs": [
        {
          "output_type": "execute_result",
          "execution_count": 11,
          "data": {
            "text/plain": "LogisticRegression(C=1.0, class_weight=None, dual=False, fit_intercept=True,\n                   intercept_scaling=1, l1_ratio=None, max_iter=100,\n                   multi_class='warn', n_jobs=None, penalty='l2',\n                   random_state=42, solver='warn', tol=0.0001, verbose=0,\n                   warm_start=False)"
          },
          "metadata": {}
        }
      ]
    },
    {
      "metadata": {
        "trusted": true
      },
      "cell_type": "code",
      "source": "features_1 = extract_best_features(log_reg,15)\nfeatures_1 = features_1[\"features\"].tolist()",
      "execution_count": 12,
      "outputs": []
    },
    {
      "metadata": {
        "trusted": true
      },
      "cell_type": "code",
      "source": "features_1",
      "execution_count": 13,
      "outputs": [
        {
          "output_type": "execute_result",
          "execution_count": 13,
          "data": {
            "text/plain": "['capital.gain',\n 'marital.status_married-af-spouse',\n 'marital.status_married-civ-spouse',\n 'relationship_wife',\n 'occupation_priv-house-serv',\n 'workclass_without-pay',\n 'native.country_south',\n 'native.country_laos',\n 'relationship_own-child',\n 'occupation_farming-fishing',\n 'workclass_self-emp-not-inc',\n 'native.country_dominican-republic',\n 'native.country_vietnam',\n 'native.country_greece',\n 'capital.loss']"
          },
          "metadata": {}
        }
      ]
    },
    {
      "metadata": {
        "trusted": true
      },
      "cell_type": "code",
      "source": "from sklearn.feature_selection import SelectKBest, f_classif\nskb = SelectKBest(score_func=f_classif, k = 15)\nskb.fit(X,y)",
      "execution_count": 14,
      "outputs": [
        {
          "output_type": "execute_result",
          "execution_count": 14,
          "data": {
            "text/plain": "SelectKBest(k=15, score_func=<function f_classif at 0x7f8454fda6a8>)"
          },
          "metadata": {}
        }
      ]
    },
    {
      "metadata": {
        "trusted": true
      },
      "cell_type": "code",
      "source": "features = list(X)\nfs = pd.DataFrame()\np_values = pd.Series(skb.pvalues_)\nfs[\"features\"] = features\nfs[\"p_values\"] = p_values\nfs = fs.sort_values([\"p_values\"], ascending=True)\nfs = fs[:15]",
      "execution_count": 15,
      "outputs": []
    },
    {
      "metadata": {
        "trusted": true
      },
      "cell_type": "code",
      "source": "features_2 = fs\nfeatures_2 = features_2[\"features\"].tolist()",
      "execution_count": 16,
      "outputs": []
    },
    {
      "metadata": {
        "trusted": true
      },
      "cell_type": "code",
      "source": "from sklearn.feature_selection import RFECV, RFE",
      "execution_count": 17,
      "outputs": []
    },
    {
      "metadata": {
        "trusted": true
      },
      "cell_type": "code",
      "source": "%%time\nrfe_cv = RFECV(estimator=log_reg,min_features_to_select=15, cv = 5)\nrfe_cv.fit(X,y)",
      "execution_count": null,
      "outputs": []
    },
    {
      "metadata": {
        "trusted": true
      },
      "cell_type": "code",
      "source": "boolean = rfe_cv.get_support().tolist()",
      "execution_count": null,
      "outputs": []
    },
    {
      "metadata": {
        "trusted": true
      },
      "cell_type": "code",
      "source": "from itertools import compress\nfeatures_3 = list(compress(list(X), boolean))",
      "execution_count": null,
      "outputs": []
    },
    {
      "metadata": {
        "trusted": true
      },
      "cell_type": "code",
      "source": "features_3 = features_3[:15]",
      "execution_count": null,
      "outputs": []
    },
    {
      "metadata": {
        "trusted": true
      },
      "cell_type": "code",
      "source": "import statsmodels.api as sm\nX_3 = sm.add_constant(X)\nX_train, X_test, y_train, y_test = tts(X_3,y,random_state = 42, test_size = 0.25)\nmodel = sm.Logit(y_train,X_train).fit(method = 'bfgs')\nmodel.summary()\n\ndef logit_fs(X,y):\n    X_sm = sm.add_constant(X)\n    model = sm.Logit(y.astype(float),X_sm.astype(float)).fit(method='lbfgs')\n    results_summary = model.summary()\n    results_as_html = results_summary.tables[1].as_html()\n    p_df = pd.read_html(results_as_html, header=0, index_col=0)[0]\n    for i in range(p_df.shape[0]):\n        if p_df['P>|z|'].max()>=.05:\n            p_df = p_df[p_df['P>|z|']!=p_df['P>|z|'].max()]\n            list_new = list(p_df.index)\n            X_sm = X_sm[list_new]\n            model = sm.Logit(y,X_sm).fit()\n            results_summary = model.summary()\n            results_as_html = results_summary.tables[1].as_html()\n            p_df = pd.read_html(results_as_html, header=0, index_col=0)[0]\n    features = list(p_df.index)[1:]\n    return(features,results_summary)\nfeatures_4, summary = logit_fs(X_train,y_train)\nfeatures_4 = features_4[:15]",
      "execution_count": null,
      "outputs": []
    },
    {
      "metadata": {
        "trusted": true
      },
      "cell_type": "code",
      "source": "features_4",
      "execution_count": null,
      "outputs": []
    },
    {
      "metadata": {
        "trusted": true
      },
      "cell_type": "code",
      "source": "def print_metrics(model, feature_list_to_use):\n    X_1 = X[feature_list_to_use]\n    X_train, X_test, y_train, y_test = tts(X_1,y,random_state = 42, test_size = 0.25)\n    model.fit(X_train,y_train)\n    y_pred = model.predict(X_test)\n    print (\"Accuracy_score is \" + str(accuracy_score(y_test,y_pred)))\n    print (classification_report(y_test,y_pred))\n    print (\"AUC_score is \" + str(roc_auc_score(y_test,y_pred)))",
      "execution_count": null,
      "outputs": []
    },
    {
      "metadata": {
        "trusted": true
      },
      "cell_type": "code",
      "source": "# features_1= features_1[\"features\"].tolist()",
      "execution_count": null,
      "outputs": []
    },
    {
      "metadata": {
        "trusted": true
      },
      "cell_type": "code",
      "source": "# features_2 = features_2[\"features\"].tolist()",
      "execution_count": null,
      "outputs": []
    },
    {
      "metadata": {
        "trusted": true
      },
      "cell_type": "code",
      "source": "features_4",
      "execution_count": null,
      "outputs": []
    },
    {
      "metadata": {
        "trusted": true
      },
      "cell_type": "code",
      "source": "#All features, normal Logistic regression\nmodel = LogisticRegression(random_state=42)\nprint_metrics(model, list(X))",
      "execution_count": null,
      "outputs": []
    },
    {
      "metadata": {
        "trusted": true
      },
      "cell_type": "code",
      "source": "#skb_features, normal Logistic regression\nmodel = LogisticRegression(random_state=42)\nprint_metrics(model, features_2)",
      "execution_count": null,
      "outputs": []
    },
    {
      "metadata": {
        "trusted": true
      },
      "cell_type": "code",
      "source": "#rfe_cv_features, normal Logistic regression\nmodel = LogisticRegression(random_state=42)\nprint_metrics(model, features_3)",
      "execution_count": null,
      "outputs": []
    },
    {
      "metadata": {
        "trusted": true
      },
      "cell_type": "code",
      "source": "#sm_logit_features, normal Logistic regression\nmodel = LogisticRegression(random_state=42)\nprint_metrics(model, features_4)",
      "execution_count": null,
      "outputs": []
    },
    {
      "metadata": {
        "trusted": true
      },
      "cell_type": "code",
      "source": "#All features, normal Logistic regression\nmodel = LogisticRegression(random_state=42, class_weight=\"balanced\")\nprint_metrics(model, list(X))",
      "execution_count": null,
      "outputs": []
    },
    {
      "metadata": {
        "trusted": true
      },
      "cell_type": "code",
      "source": "#skb_features, normal Logistic regression\nmodel = LogisticRegression(random_state=42, class_weight=\"balanced\")\nprint_metrics(model, features_2)",
      "execution_count": null,
      "outputs": []
    },
    {
      "metadata": {
        "trusted": true
      },
      "cell_type": "code",
      "source": "#rfe_cv_features, normal Logistic regression\nmodel = LogisticRegression(random_state=42, class_weight = \"balanced\")\nprint_metrics(model, features_3)",
      "execution_count": null,
      "outputs": []
    },
    {
      "metadata": {
        "trusted": true
      },
      "cell_type": "code",
      "source": "#sm_logit_features, normal Logistic regression\nmodel = LogisticRegression(random_state=42, class_weight=\"balanced\")\nprint_metrics(model, features_4)",
      "execution_count": null,
      "outputs": []
    },
    {
      "metadata": {
        "trusted": true
      },
      "cell_type": "code",
      "source": "from sklearn.model_selection import GridSearchCV, RandomizedSearchCV",
      "execution_count": null,
      "outputs": []
    },
    {
      "metadata": {
        "trusted": true
      },
      "cell_type": "code",
      "source": "X_1 = X[features_2]\nX_train, X_test, y_train, y_test = tts(X_1,y,test_size = 0.25, random_state = 42)\nparams= {\"C\":np.arange(0.1,10,0.1), \n        \"penalty\":[\"l1\", \"l2\"]}",
      "execution_count": null,
      "outputs": []
    },
    {
      "metadata": {
        "trusted": true
      },
      "cell_type": "code",
      "source": "params",
      "execution_count": null,
      "outputs": []
    },
    {
      "metadata": {
        "trusted": true
      },
      "cell_type": "code",
      "source": "model = LogisticRegression(random_state=42, class_weight=\"balanced\")\nlog_reg_cv = GridSearchCV(param_grid=params, cv = 5, estimator=model )",
      "execution_count": null,
      "outputs": []
    },
    {
      "metadata": {
        "trusted": true
      },
      "cell_type": "code",
      "source": "%%time\nlog_reg_cv.fit(X_train, y_train)",
      "execution_count": null,
      "outputs": []
    },
    {
      "metadata": {
        "trusted": true
      },
      "cell_type": "code",
      "source": "log_reg_cv.best_params_",
      "execution_count": null,
      "outputs": []
    },
    {
      "metadata": {
        "trusted": true
      },
      "cell_type": "code",
      "source": "print (\"Run time is \"+str(time.time() - start))",
      "execution_count": null,
      "outputs": []
    },
    {
      "metadata": {
        "trusted": true
      },
      "cell_type": "code",
      "source": "model = log_reg_cv.best_estimator_",
      "execution_count": null,
      "outputs": []
    },
    {
      "metadata": {
        "trusted": true
      },
      "cell_type": "code",
      "source": "model",
      "execution_count": null,
      "outputs": []
    },
    {
      "metadata": {
        "trusted": true
      },
      "cell_type": "code",
      "source": "print_metrics(model=model, feature_list_to_use=features_2)",
      "execution_count": null,
      "outputs": []
    },
    {
      "metadata": {
        "trusted": true
      },
      "cell_type": "code",
      "source": "!pip install imblearn",
      "execution_count": null,
      "outputs": []
    },
    {
      "metadata": {
        "trusted": true
      },
      "cell_type": "code",
      "source": "from imblearn.over_sampling import SMOTE",
      "execution_count": null,
      "outputs": []
    },
    {
      "metadata": {
        "trusted": true
      },
      "cell_type": "code",
      "source": "X_1 = X[features_2]\n# X_train, X_test, y_train, y_test = tts(X_1,y,test_size = 0.25, random_state = 42)",
      "execution_count": null,
      "outputs": []
    },
    {
      "metadata": {
        "trusted": true
      },
      "cell_type": "code",
      "source": "sm = SMOTE(random_state=42)\nX_res, y_res = sm.fit_sample(X_1, y.ravel())",
      "execution_count": null,
      "outputs": []
    },
    {
      "metadata": {
        "trusted": true
      },
      "cell_type": "code",
      "source": "X_train, X_test, y_train, y_test = tts(X_res,y_res,test_size = 0.25, random_state = 42)",
      "execution_count": null,
      "outputs": []
    },
    {
      "metadata": {
        "trusted": true
      },
      "cell_type": "code",
      "source": "# model.fit(X_train,y_train)",
      "execution_count": null,
      "outputs": []
    },
    {
      "metadata": {
        "trusted": true
      },
      "cell_type": "code",
      "source": "# y_pred=model.predict(X_test)",
      "execution_count": null,
      "outputs": []
    },
    {
      "metadata": {
        "trusted": true
      },
      "cell_type": "code",
      "source": "# print (classification_report(y_test,y_pred))",
      "execution_count": null,
      "outputs": []
    },
    {
      "metadata": {
        "trusted": true
      },
      "cell_type": "code",
      "source": "model.fit(X_train,y_train)\ny_pred = model.predict(X_test)\nprint (\"Accuracy_score is \" + str(accuracy_score(y_test,y_pred)))\nprint (classification_report(y_test,y_pred))\nprint (\"AUC_score is \" + str(roc_auc_score(y_test,y_pred)))",
      "execution_count": null,
      "outputs": []
    },
    {
      "metadata": {
        "trusted": true
      },
      "cell_type": "code",
      "source": "",
      "execution_count": null,
      "outputs": []
    }
  ],
  "metadata": {
    "kernelspec": {
      "name": "python36",
      "display_name": "Python 3.6",
      "language": "python"
    }
  },
  "nbformat": 4,
  "nbformat_minor": 2
}