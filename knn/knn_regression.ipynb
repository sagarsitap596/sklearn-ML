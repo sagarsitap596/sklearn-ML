{
  "cells": [
    {
      "metadata": {
        "trusted": true
      },
      "cell_type": "code",
      "source": "import pandas as pd\nimport numpy as np\n\ndf = pd.read_csv('Consumo_cerveja.csv')\n\ndf.head()\n\n",
      "execution_count": 41,
      "outputs": [
        {
          "output_type": "execute_result",
          "execution_count": 41,
          "data": {
            "text/html": "<div>\n<style scoped>\n    .dataframe tbody tr th:only-of-type {\n        vertical-align: middle;\n    }\n\n    .dataframe tbody tr th {\n        vertical-align: top;\n    }\n\n    .dataframe thead th {\n        text-align: right;\n    }\n</style>\n<table border=\"1\" class=\"dataframe\">\n  <thead>\n    <tr style=\"text-align: right;\">\n      <th></th>\n      <th>Data</th>\n      <th>Temperatura Media (C)</th>\n      <th>Temperatura Minima (C)</th>\n      <th>Temperatura Maxima (C)</th>\n      <th>Precipitacao (mm)</th>\n      <th>Final de Semana</th>\n      <th>Consumo de cerveja (litros)</th>\n    </tr>\n  </thead>\n  <tbody>\n    <tr>\n      <th>0</th>\n      <td>2015-01-01</td>\n      <td>27,3</td>\n      <td>23,9</td>\n      <td>32,5</td>\n      <td>0</td>\n      <td>0.0</td>\n      <td>25.461</td>\n    </tr>\n    <tr>\n      <th>1</th>\n      <td>2015-01-02</td>\n      <td>27,02</td>\n      <td>24,5</td>\n      <td>33,5</td>\n      <td>0</td>\n      <td>0.0</td>\n      <td>28.972</td>\n    </tr>\n    <tr>\n      <th>2</th>\n      <td>2015-01-03</td>\n      <td>24,82</td>\n      <td>22,4</td>\n      <td>29,9</td>\n      <td>0</td>\n      <td>1.0</td>\n      <td>30.814</td>\n    </tr>\n    <tr>\n      <th>3</th>\n      <td>2015-01-04</td>\n      <td>23,98</td>\n      <td>21,5</td>\n      <td>28,6</td>\n      <td>1,2</td>\n      <td>1.0</td>\n      <td>29.799</td>\n    </tr>\n    <tr>\n      <th>4</th>\n      <td>2015-01-05</td>\n      <td>23,82</td>\n      <td>21</td>\n      <td>28,3</td>\n      <td>0</td>\n      <td>0.0</td>\n      <td>28.900</td>\n    </tr>\n  </tbody>\n</table>\n</div>",
            "text/plain": "         Data Temperatura Media (C) Temperatura Minima (C)  \\\n0  2015-01-01                  27,3                   23,9   \n1  2015-01-02                 27,02                   24,5   \n2  2015-01-03                 24,82                   22,4   \n3  2015-01-04                 23,98                   21,5   \n4  2015-01-05                 23,82                     21   \n\n  Temperatura Maxima (C) Precipitacao (mm)  Final de Semana  \\\n0                   32,5                 0              0.0   \n1                   33,5                 0              0.0   \n2                   29,9                 0              1.0   \n3                   28,6               1,2              1.0   \n4                   28,3                 0              0.0   \n\n   Consumo de cerveja (litros)  \n0                       25.461  \n1                       28.972  \n2                       30.814  \n3                       29.799  \n4                       28.900  "
          },
          "metadata": {}
        }
      ]
    },
    {
      "metadata": {
        "trusted": true
      },
      "cell_type": "code",
      "source": "df.isnull().sum()",
      "execution_count": 42,
      "outputs": [
        {
          "output_type": "execute_result",
          "execution_count": 42,
          "data": {
            "text/plain": "Data                           576\nTemperatura Media (C)          576\nTemperatura Minima (C)         576\nTemperatura Maxima (C)         576\nPrecipitacao (mm)              576\nFinal de Semana                576\nConsumo de cerveja (litros)    576\ndtype: int64"
          },
          "metadata": {}
        }
      ]
    },
    {
      "metadata": {
        "trusted": true
      },
      "cell_type": "code",
      "source": "df.dropna(inplace=True)\ndf.isnull().sum()",
      "execution_count": 43,
      "outputs": [
        {
          "output_type": "execute_result",
          "execution_count": 43,
          "data": {
            "text/plain": "Data                           0\nTemperatura Media (C)          0\nTemperatura Minima (C)         0\nTemperatura Maxima (C)         0\nPrecipitacao (mm)              0\nFinal de Semana                0\nConsumo de cerveja (litros)    0\ndtype: int64"
          },
          "metadata": {}
        }
      ]
    },
    {
      "metadata": {
        "trusted": true
      },
      "cell_type": "code",
      "source": "# Dont want Date column\ndf = df.iloc[:,1:]\ndf.head()",
      "execution_count": 44,
      "outputs": [
        {
          "output_type": "execute_result",
          "execution_count": 44,
          "data": {
            "text/html": "<div>\n<style scoped>\n    .dataframe tbody tr th:only-of-type {\n        vertical-align: middle;\n    }\n\n    .dataframe tbody tr th {\n        vertical-align: top;\n    }\n\n    .dataframe thead th {\n        text-align: right;\n    }\n</style>\n<table border=\"1\" class=\"dataframe\">\n  <thead>\n    <tr style=\"text-align: right;\">\n      <th></th>\n      <th>Temperatura Media (C)</th>\n      <th>Temperatura Minima (C)</th>\n      <th>Temperatura Maxima (C)</th>\n      <th>Precipitacao (mm)</th>\n      <th>Final de Semana</th>\n      <th>Consumo de cerveja (litros)</th>\n    </tr>\n  </thead>\n  <tbody>\n    <tr>\n      <th>0</th>\n      <td>27,3</td>\n      <td>23,9</td>\n      <td>32,5</td>\n      <td>0</td>\n      <td>0.0</td>\n      <td>25.461</td>\n    </tr>\n    <tr>\n      <th>1</th>\n      <td>27,02</td>\n      <td>24,5</td>\n      <td>33,5</td>\n      <td>0</td>\n      <td>0.0</td>\n      <td>28.972</td>\n    </tr>\n    <tr>\n      <th>2</th>\n      <td>24,82</td>\n      <td>22,4</td>\n      <td>29,9</td>\n      <td>0</td>\n      <td>1.0</td>\n      <td>30.814</td>\n    </tr>\n    <tr>\n      <th>3</th>\n      <td>23,98</td>\n      <td>21,5</td>\n      <td>28,6</td>\n      <td>1,2</td>\n      <td>1.0</td>\n      <td>29.799</td>\n    </tr>\n    <tr>\n      <th>4</th>\n      <td>23,82</td>\n      <td>21</td>\n      <td>28,3</td>\n      <td>0</td>\n      <td>0.0</td>\n      <td>28.900</td>\n    </tr>\n  </tbody>\n</table>\n</div>",
            "text/plain": "  Temperatura Media (C) Temperatura Minima (C) Temperatura Maxima (C)  \\\n0                  27,3                   23,9                   32,5   \n1                 27,02                   24,5                   33,5   \n2                 24,82                   22,4                   29,9   \n3                 23,98                   21,5                   28,6   \n4                 23,82                     21                   28,3   \n\n  Precipitacao (mm)  Final de Semana  Consumo de cerveja (litros)  \n0                 0              0.0                       25.461  \n1                 0              0.0                       28.972  \n2                 0              1.0                       30.814  \n3               1,2              1.0                       29.799  \n4                 0              0.0                       28.900  "
          },
          "metadata": {}
        }
      ]
    },
    {
      "metadata": {
        "trusted": true
      },
      "cell_type": "code",
      "source": "df.dtypes",
      "execution_count": 45,
      "outputs": [
        {
          "output_type": "execute_result",
          "execution_count": 45,
          "data": {
            "text/plain": "Temperatura Media (C)           object\nTemperatura Minima (C)          object\nTemperatura Maxima (C)          object\nPrecipitacao (mm)               object\nFinal de Semana                float64\nConsumo de cerveja (litros)    float64\ndtype: object"
          },
          "metadata": {}
        }
      ]
    },
    {
      "metadata": {
        "trusted": true
      },
      "cell_type": "code",
      "source": "df.columns = [\"Temp(med)\", \"Temp(min)\", \"Temp(Max)\", \"Rainfall(mm)\", \"weekend\", \"consumption\"]\ndf.head()",
      "execution_count": 46,
      "outputs": [
        {
          "output_type": "execute_result",
          "execution_count": 46,
          "data": {
            "text/html": "<div>\n<style scoped>\n    .dataframe tbody tr th:only-of-type {\n        vertical-align: middle;\n    }\n\n    .dataframe tbody tr th {\n        vertical-align: top;\n    }\n\n    .dataframe thead th {\n        text-align: right;\n    }\n</style>\n<table border=\"1\" class=\"dataframe\">\n  <thead>\n    <tr style=\"text-align: right;\">\n      <th></th>\n      <th>Temp(med)</th>\n      <th>Temp(min)</th>\n      <th>Temp(Max)</th>\n      <th>Rainfall(mm)</th>\n      <th>weekend</th>\n      <th>consumption</th>\n    </tr>\n  </thead>\n  <tbody>\n    <tr>\n      <th>0</th>\n      <td>27,3</td>\n      <td>23,9</td>\n      <td>32,5</td>\n      <td>0</td>\n      <td>0.0</td>\n      <td>25.461</td>\n    </tr>\n    <tr>\n      <th>1</th>\n      <td>27,02</td>\n      <td>24,5</td>\n      <td>33,5</td>\n      <td>0</td>\n      <td>0.0</td>\n      <td>28.972</td>\n    </tr>\n    <tr>\n      <th>2</th>\n      <td>24,82</td>\n      <td>22,4</td>\n      <td>29,9</td>\n      <td>0</td>\n      <td>1.0</td>\n      <td>30.814</td>\n    </tr>\n    <tr>\n      <th>3</th>\n      <td>23,98</td>\n      <td>21,5</td>\n      <td>28,6</td>\n      <td>1,2</td>\n      <td>1.0</td>\n      <td>29.799</td>\n    </tr>\n    <tr>\n      <th>4</th>\n      <td>23,82</td>\n      <td>21</td>\n      <td>28,3</td>\n      <td>0</td>\n      <td>0.0</td>\n      <td>28.900</td>\n    </tr>\n  </tbody>\n</table>\n</div>",
            "text/plain": "  Temp(med) Temp(min) Temp(Max) Rainfall(mm)  weekend  consumption\n0      27,3      23,9      32,5            0      0.0       25.461\n1     27,02      24,5      33,5            0      0.0       28.972\n2     24,82      22,4      29,9            0      1.0       30.814\n3     23,98      21,5      28,6          1,2      1.0       29.799\n4     23,82        21      28,3            0      0.0       28.900"
          },
          "metadata": {}
        }
      ]
    },
    {
      "metadata": {
        "trusted": true
      },
      "cell_type": "code",
      "source": "df.iloc[:,:4].replace(',','.',inplace=True)\ndf.head()",
      "execution_count": 47,
      "outputs": [
        {
          "output_type": "execute_result",
          "execution_count": 47,
          "data": {
            "text/html": "<div>\n<style scoped>\n    .dataframe tbody tr th:only-of-type {\n        vertical-align: middle;\n    }\n\n    .dataframe tbody tr th {\n        vertical-align: top;\n    }\n\n    .dataframe thead th {\n        text-align: right;\n    }\n</style>\n<table border=\"1\" class=\"dataframe\">\n  <thead>\n    <tr style=\"text-align: right;\">\n      <th></th>\n      <th>Temp(med)</th>\n      <th>Temp(min)</th>\n      <th>Temp(Max)</th>\n      <th>Rainfall(mm)</th>\n      <th>weekend</th>\n      <th>consumption</th>\n    </tr>\n  </thead>\n  <tbody>\n    <tr>\n      <th>0</th>\n      <td>27,3</td>\n      <td>23,9</td>\n      <td>32,5</td>\n      <td>0</td>\n      <td>0.0</td>\n      <td>25.461</td>\n    </tr>\n    <tr>\n      <th>1</th>\n      <td>27,02</td>\n      <td>24,5</td>\n      <td>33,5</td>\n      <td>0</td>\n      <td>0.0</td>\n      <td>28.972</td>\n    </tr>\n    <tr>\n      <th>2</th>\n      <td>24,82</td>\n      <td>22,4</td>\n      <td>29,9</td>\n      <td>0</td>\n      <td>1.0</td>\n      <td>30.814</td>\n    </tr>\n    <tr>\n      <th>3</th>\n      <td>23,98</td>\n      <td>21,5</td>\n      <td>28,6</td>\n      <td>1,2</td>\n      <td>1.0</td>\n      <td>29.799</td>\n    </tr>\n    <tr>\n      <th>4</th>\n      <td>23,82</td>\n      <td>21</td>\n      <td>28,3</td>\n      <td>0</td>\n      <td>0.0</td>\n      <td>28.900</td>\n    </tr>\n  </tbody>\n</table>\n</div>",
            "text/plain": "  Temp(med) Temp(min) Temp(Max) Rainfall(mm)  weekend  consumption\n0      27,3      23,9      32,5            0      0.0       25.461\n1     27,02      24,5      33,5            0      0.0       28.972\n2     24,82      22,4      29,9            0      1.0       30.814\n3     23,98      21,5      28,6          1,2      1.0       29.799\n4     23,82        21      28,3            0      0.0       28.900"
          },
          "metadata": {}
        }
      ]
    },
    {
      "metadata": {
        "trusted": true
      },
      "cell_type": "code",
      "source": "# replace , with . in first four columns and convert it to float data type\n\nfor column_name in list(df)[:4]:\n    df[column_name] = df[column_name].str.replace(',','.').astype(float)  \n",
      "execution_count": 48,
      "outputs": []
    },
    {
      "metadata": {
        "trusted": true
      },
      "cell_type": "code",
      "source": "df.dtypes",
      "execution_count": 51,
      "outputs": [
        {
          "output_type": "execute_result",
          "execution_count": 51,
          "data": {
            "text/plain": "Temp(med)       float64\nTemp(min)       float64\nTemp(Max)       float64\nRainfall(mm)    float64\nweekend         float64\nconsumption     float64\ndtype: object"
          },
          "metadata": {}
        }
      ]
    },
    {
      "metadata": {
        "trusted": true
      },
      "cell_type": "code",
      "source": "df.head()",
      "execution_count": 52,
      "outputs": [
        {
          "output_type": "execute_result",
          "execution_count": 52,
          "data": {
            "text/html": "<div>\n<style scoped>\n    .dataframe tbody tr th:only-of-type {\n        vertical-align: middle;\n    }\n\n    .dataframe tbody tr th {\n        vertical-align: top;\n    }\n\n    .dataframe thead th {\n        text-align: right;\n    }\n</style>\n<table border=\"1\" class=\"dataframe\">\n  <thead>\n    <tr style=\"text-align: right;\">\n      <th></th>\n      <th>Temp(med)</th>\n      <th>Temp(min)</th>\n      <th>Temp(Max)</th>\n      <th>Rainfall(mm)</th>\n      <th>weekend</th>\n      <th>consumption</th>\n    </tr>\n  </thead>\n  <tbody>\n    <tr>\n      <th>0</th>\n      <td>27.30</td>\n      <td>23.9</td>\n      <td>32.5</td>\n      <td>0.0</td>\n      <td>0.0</td>\n      <td>25.461</td>\n    </tr>\n    <tr>\n      <th>1</th>\n      <td>27.02</td>\n      <td>24.5</td>\n      <td>33.5</td>\n      <td>0.0</td>\n      <td>0.0</td>\n      <td>28.972</td>\n    </tr>\n    <tr>\n      <th>2</th>\n      <td>24.82</td>\n      <td>22.4</td>\n      <td>29.9</td>\n      <td>0.0</td>\n      <td>1.0</td>\n      <td>30.814</td>\n    </tr>\n    <tr>\n      <th>3</th>\n      <td>23.98</td>\n      <td>21.5</td>\n      <td>28.6</td>\n      <td>1.2</td>\n      <td>1.0</td>\n      <td>29.799</td>\n    </tr>\n    <tr>\n      <th>4</th>\n      <td>23.82</td>\n      <td>21.0</td>\n      <td>28.3</td>\n      <td>0.0</td>\n      <td>0.0</td>\n      <td>28.900</td>\n    </tr>\n  </tbody>\n</table>\n</div>",
            "text/plain": "   Temp(med)  Temp(min)  Temp(Max)  Rainfall(mm)  weekend  consumption\n0      27.30       23.9       32.5           0.0      0.0       25.461\n1      27.02       24.5       33.5           0.0      0.0       28.972\n2      24.82       22.4       29.9           0.0      1.0       30.814\n3      23.98       21.5       28.6           1.2      1.0       29.799\n4      23.82       21.0       28.3           0.0      0.0       28.900"
          },
          "metadata": {}
        }
      ]
    },
    {
      "metadata": {
        "trusted": true
      },
      "cell_type": "code",
      "source": "df['weekend'] = df['weekend'].astype('category')\ndf.dtypes",
      "execution_count": 57,
      "outputs": [
        {
          "output_type": "execute_result",
          "execution_count": 57,
          "data": {
            "text/plain": "Temp(med)        float64\nTemp(min)        float64\nTemp(Max)        float64\nRainfall(mm)     float64\nweekend         category\nconsumption      float64\ndtype: object"
          },
          "metadata": {}
        }
      ]
    },
    {
      "metadata": {
        "trusted": true
      },
      "cell_type": "code",
      "source": "X = df.iloc[:,:-1] # [Temp(med)\tTemp(min),Temp(Max),Rainfall(mm),weekend]\ny = df.iloc[:,-1]  # [consumption]",
      "execution_count": 60,
      "outputs": []
    },
    {
      "metadata": {
        "trusted": true
      },
      "cell_type": "code",
      "source": "df.describe()",
      "execution_count": 61,
      "outputs": [
        {
          "output_type": "execute_result",
          "execution_count": 61,
          "data": {
            "text/html": "<div>\n<style scoped>\n    .dataframe tbody tr th:only-of-type {\n        vertical-align: middle;\n    }\n\n    .dataframe tbody tr th {\n        vertical-align: top;\n    }\n\n    .dataframe thead th {\n        text-align: right;\n    }\n</style>\n<table border=\"1\" class=\"dataframe\">\n  <thead>\n    <tr style=\"text-align: right;\">\n      <th></th>\n      <th>Temp(med)</th>\n      <th>Temp(min)</th>\n      <th>Temp(Max)</th>\n      <th>Rainfall(mm)</th>\n      <th>consumption</th>\n    </tr>\n  </thead>\n  <tbody>\n    <tr>\n      <th>count</th>\n      <td>365.000000</td>\n      <td>365.000000</td>\n      <td>365.000000</td>\n      <td>365.000000</td>\n      <td>365.000000</td>\n    </tr>\n    <tr>\n      <th>mean</th>\n      <td>21.226356</td>\n      <td>17.461370</td>\n      <td>26.611507</td>\n      <td>5.196712</td>\n      <td>25.401367</td>\n    </tr>\n    <tr>\n      <th>std</th>\n      <td>3.180108</td>\n      <td>2.826185</td>\n      <td>4.317366</td>\n      <td>12.417844</td>\n      <td>4.399143</td>\n    </tr>\n    <tr>\n      <th>min</th>\n      <td>12.900000</td>\n      <td>10.600000</td>\n      <td>14.500000</td>\n      <td>0.000000</td>\n      <td>14.343000</td>\n    </tr>\n    <tr>\n      <th>25%</th>\n      <td>19.020000</td>\n      <td>15.300000</td>\n      <td>23.800000</td>\n      <td>0.000000</td>\n      <td>22.008000</td>\n    </tr>\n    <tr>\n      <th>50%</th>\n      <td>21.380000</td>\n      <td>17.900000</td>\n      <td>26.900000</td>\n      <td>0.000000</td>\n      <td>24.867000</td>\n    </tr>\n    <tr>\n      <th>75%</th>\n      <td>23.280000</td>\n      <td>19.600000</td>\n      <td>29.400000</td>\n      <td>3.200000</td>\n      <td>28.631000</td>\n    </tr>\n    <tr>\n      <th>max</th>\n      <td>28.860000</td>\n      <td>24.500000</td>\n      <td>36.500000</td>\n      <td>94.800000</td>\n      <td>37.937000</td>\n    </tr>\n  </tbody>\n</table>\n</div>",
            "text/plain": "        Temp(med)   Temp(min)   Temp(Max)  Rainfall(mm)  consumption\ncount  365.000000  365.000000  365.000000    365.000000   365.000000\nmean    21.226356   17.461370   26.611507      5.196712    25.401367\nstd      3.180108    2.826185    4.317366     12.417844     4.399143\nmin     12.900000   10.600000   14.500000      0.000000    14.343000\n25%     19.020000   15.300000   23.800000      0.000000    22.008000\n50%     21.380000   17.900000   26.900000      0.000000    24.867000\n75%     23.280000   19.600000   29.400000      3.200000    28.631000\nmax     28.860000   24.500000   36.500000     94.800000    37.937000"
          },
          "metadata": {}
        }
      ]
    },
    {
      "metadata": {
        "trusted": true
      },
      "cell_type": "code",
      "source": "from sklearn.neighbors import KNeighborsRegressor\nfrom sklearn.model_selection import train_test_split as tts , cross_val_score , GridSearchCV\nfrom sklearn.metrics import mean_squared_error , r2_score\n",
      "execution_count": 70,
      "outputs": []
    },
    {
      "metadata": {
        "trusted": true
      },
      "cell_type": "code",
      "source": "# Our model need trin data for training and test data for testing.\n# These train data and test data is generated from our actual data using train_test_split akka tts as follows\nX_train,X_test,y_train,y_test = tts(X,y,random_state=596,test_size=0.3,) # test_size = divides data in to 70% test data and 30% test data",
      "execution_count": 131,
      "outputs": []
    },
    {
      "metadata": {
        "trusted": true
      },
      "cell_type": "code",
      "source": "# instantiating KNN model\nknn = KNeighborsRegressor()",
      "execution_count": 132,
      "outputs": []
    },
    {
      "metadata": {
        "trusted": true
      },
      "cell_type": "code",
      "source": "# Training KNN model with Training data X_train , y_train\nknn.fit(X_train,y_train)",
      "execution_count": 133,
      "outputs": [
        {
          "output_type": "execute_result",
          "execution_count": 133,
          "data": {
            "text/plain": "KNeighborsRegressor(algorithm='auto', leaf_size=30, metric='minkowski',\n          metric_params=None, n_jobs=None, n_neighbors=5, p=2,\n          weights='uniform')"
          },
          "metadata": {}
        }
      ]
    },
    {
      "metadata": {
        "trusted": true
      },
      "cell_type": "code",
      "source": "# predict consumtion value for given single data\nknn.predict(pd.DataFrame({'Temp(med)':[21.52],'Temp(min)':18.6,'Temp(Max)':27.4,'Rainfall(mm)':6.8,'weekend':0.0}))",
      "execution_count": 134,
      "outputs": [
        {
          "output_type": "execute_result",
          "execution_count": 134,
          "data": {
            "text/plain": "array([30.2548])"
          },
          "metadata": {}
        }
      ]
    },
    {
      "metadata": {
        "trusted": true
      },
      "cell_type": "code",
      "source": "# predict consumtion values for given test data\nknn.predict(X_test)",
      "execution_count": 135,
      "outputs": [
        {
          "output_type": "execute_result",
          "execution_count": 135,
          "data": {
            "text/plain": "array([21.3048, 27.6558, 26.636 , 29.4302, 22.5922, 29.1032, 26.6642,\n       26.9   , 22.6146, 31.7416, 26.5568, 26.9264, 25.9468, 25.939 ,\n       29.1798, 24.2274, 26.4118, 19.3724, 19.941 , 27.1718, 18.0484,\n       29.0416, 25.0994, 25.5022, 29.1472, 18.1242, 24.0492, 24.805 ,\n       22.6544, 29.2294, 26.5978, 23.6502, 32.015 , 26.5556, 24.4532,\n       29.9332, 29.073 , 18.3124, 19.7052, 19.6048, 24.2468, 20.6432,\n       26.4624, 26.046 , 32.0582, 23.6502, 26.7524, 20.8944, 22.0668,\n       25.923 , 30.3554, 31.1378, 29.594 , 20.0632, 26.0728, 22.348 ,\n       19.7052, 31.8432, 26.5568, 29.1554, 24.745 , 29.1442, 24.0142,\n       22.6544, 26.9264, 27.2986, 29.9336, 28.2428, 22.9854, 25.5522,\n       24.0582, 23.6244, 25.2868, 22.3792, 20.7594, 23.1782, 20.593 ,\n       27.593 , 33.5716, 26.1862, 21.8912, 25.4704, 32.6634, 22.991 ,\n       20.478 , 31.7492, 23.1474, 29.0416, 30.9738, 29.594 , 25.2118,\n       28.4296, 23.799 , 22.6026, 22.958 , 30.4698, 21.9018, 23.8758,\n       19.5138, 24.4802, 23.6576, 25.3476, 26.9018, 32.2742, 27.6034,\n       31.0298, 21.6578, 28.1856, 30.2812, 23.9082])"
          },
          "metadata": {}
        }
      ]
    },
    {
      "metadata": {
        "trusted": true
      },
      "cell_type": "code",
      "source": "# Get model efficincy score by testing Model with Test data X_test , y_test\nknn.score(X_test,y_test)",
      "execution_count": 136,
      "outputs": [
        {
          "output_type": "execute_result",
          "execution_count": 136,
          "data": {
            "text/plain": "0.5789871040385366"
          },
          "metadata": {}
        }
      ]
    },
    {
      "metadata": {
        "trusted": true
      },
      "cell_type": "code",
      "source": "# Cross val score - Runs test for 10 times with different combinations of train and test data but in same ration of 70:30\ncv_scores = cross_val_score(knn,X,y,cv=10)\nmax(cv_scores)",
      "execution_count": 137,
      "outputs": [
        {
          "output_type": "execute_result",
          "execution_count": 137,
          "data": {
            "text/plain": "0.7563842121716744"
          },
          "metadata": {}
        }
      ]
    },
    {
      "metadata": {
        "trusted": true
      },
      "cell_type": "code",
      "source": "# paramaters for gridSearch\nparams = {\"n_neighbors\":np.arange(1,10,1), \"metric\":[\"euclidean\", \"minkowski\", \"jaccard\", \"cosine\"]}",
      "execution_count": 138,
      "outputs": []
    },
    {
      "metadata": {
        "trusted": true
      },
      "cell_type": "code",
      "source": "# instantiating GridSearchCV model with knn model, params  and cv\n# So knn model will be tested with (n_neighbors) 4  X 9 (metric) = 36 different combinations of model parameters\nknn_gscv = GridSearchCV(estimator=knn, param_grid=params, cv = 10)",
      "execution_count": 139,
      "outputs": []
    },
    {
      "metadata": {
        "trusted": true
      },
      "cell_type": "code",
      "source": "knn_gscv.fit(X,y)",
      "execution_count": 140,
      "outputs": [
        {
          "output_type": "stream",
          "text": "/home/nbuser/anaconda3_501/lib/python3.6/site-packages/sklearn/model_selection/_search.py:841: DeprecationWarning: The default of the `iid` parameter will change from True to False in version 0.22 and will be removed in 0.24. This will change numeric results when test-set sizes are unequal.\n  DeprecationWarning)\n",
          "name": "stderr"
        },
        {
          "output_type": "execute_result",
          "execution_count": 140,
          "data": {
            "text/plain": "GridSearchCV(cv=10, error_score='raise-deprecating',\n       estimator=KNeighborsRegressor(algorithm='auto', leaf_size=30, metric='minkowski',\n          metric_params=None, n_jobs=None, n_neighbors=5, p=2,\n          weights='uniform'),\n       fit_params=None, iid='warn', n_jobs=None,\n       param_grid={'n_neighbors': array([1, 2, 3, 4, 5, 6, 7, 8, 9]), 'metric': ['euclidean', 'minkowski', 'jaccard', 'cosine']},\n       pre_dispatch='2*n_jobs', refit=True, return_train_score='warn',\n       scoring=None, verbose=0)"
          },
          "metadata": {}
        }
      ]
    },
    {
      "metadata": {
        "trusted": true
      },
      "cell_type": "code",
      "source": "knn_gscv.best_score_",
      "execution_count": 141,
      "outputs": [
        {
          "output_type": "execute_result",
          "execution_count": 141,
          "data": {
            "text/plain": "0.5234637590420743"
          },
          "metadata": {}
        }
      ]
    },
    {
      "metadata": {
        "trusted": true
      },
      "cell_type": "code",
      "source": "knn_gscv.best_estimator_",
      "execution_count": 142,
      "outputs": [
        {
          "output_type": "execute_result",
          "execution_count": 142,
          "data": {
            "text/plain": "KNeighborsRegressor(algorithm='auto', leaf_size=30, metric='euclidean',\n          metric_params=None, n_jobs=None, n_neighbors=9, p=2,\n          weights='uniform')"
          },
          "metadata": {}
        }
      ]
    },
    {
      "metadata": {
        "trusted": true
      },
      "cell_type": "code",
      "source": "knn_gscv.best_params_",
      "execution_count": 143,
      "outputs": [
        {
          "output_type": "execute_result",
          "execution_count": 143,
          "data": {
            "text/plain": "{'metric': 'euclidean', 'n_neighbors': 9}"
          },
          "metadata": {}
        }
      ]
    },
    {
      "metadata": {
        "trusted": true
      },
      "cell_type": "code",
      "source": "knn_gscv.best_index_",
      "execution_count": 144,
      "outputs": [
        {
          "output_type": "execute_result",
          "execution_count": 144,
          "data": {
            "text/plain": "8"
          },
          "metadata": {}
        }
      ]
    },
    {
      "metadata": {
        "trusted": true
      },
      "cell_type": "code",
      "source": "# Scale the values so that model takes less time for omuputation\nfrom sklearn.preprocessing import StandardScaler\nscaler = StandardScaler()",
      "execution_count": 145,
      "outputs": []
    },
    {
      "metadata": {
        "trusted": true
      },
      "cell_type": "code",
      "source": "# To don want to scale weekend because it is categorical [0,1]. So scaling remaing columns.\nweekend = X['weekend'].astype('int8')\nX.drop('weekend',axis=1,inplace=True)",
      "execution_count": 123,
      "outputs": []
    },
    {
      "metadata": {
        "trusted": true
      },
      "cell_type": "code",
      "source": "X = pd.DataFrame(scaler.fit_transform(X), columns = X.columns)\nX.head()",
      "execution_count": 129,
      "outputs": [
        {
          "output_type": "execute_result",
          "execution_count": 129,
          "data": {
            "text/html": "<div>\n<style scoped>\n    .dataframe tbody tr th:only-of-type {\n        vertical-align: middle;\n    }\n\n    .dataframe tbody tr th {\n        vertical-align: top;\n    }\n\n    .dataframe thead th {\n        text-align: right;\n    }\n</style>\n<table border=\"1\" class=\"dataframe\">\n  <thead>\n    <tr style=\"text-align: right;\">\n      <th></th>\n      <th>Temp(med)</th>\n      <th>Temp(min)</th>\n      <th>Temp(Max)</th>\n      <th>Rainfall(mm)</th>\n    </tr>\n  </thead>\n  <tbody>\n    <tr>\n      <th>0</th>\n      <td>1.912508</td>\n      <td>2.281333</td>\n      <td>1.365781</td>\n      <td>-0.419062</td>\n    </tr>\n    <tr>\n      <th>1</th>\n      <td>1.824340</td>\n      <td>2.493924</td>\n      <td>1.597722</td>\n      <td>-0.419062</td>\n    </tr>\n    <tr>\n      <th>2</th>\n      <td>1.131590</td>\n      <td>1.749853</td>\n      <td>0.762735</td>\n      <td>-0.419062</td>\n    </tr>\n    <tr>\n      <th>3</th>\n      <td>0.867085</td>\n      <td>1.430966</td>\n      <td>0.461212</td>\n      <td>-0.322294</td>\n    </tr>\n    <tr>\n      <th>4</th>\n      <td>0.816703</td>\n      <td>1.253806</td>\n      <td>0.391630</td>\n      <td>-0.419062</td>\n    </tr>\n  </tbody>\n</table>\n</div>",
            "text/plain": "   Temp(med)  Temp(min)  Temp(Max)  Rainfall(mm)\n0   1.912508   2.281333   1.365781     -0.419062\n1   1.824340   2.493924   1.597722     -0.419062\n2   1.131590   1.749853   0.762735     -0.419062\n3   0.867085   1.430966   0.461212     -0.322294\n4   0.816703   1.253806   0.391630     -0.419062"
          },
          "metadata": {}
        }
      ]
    },
    {
      "metadata": {
        "trusted": true
      },
      "cell_type": "code",
      "source": "# Adding back weeknd column\nX['weekend'] = weekend\nX.head()",
      "execution_count": 130,
      "outputs": [
        {
          "output_type": "execute_result",
          "execution_count": 130,
          "data": {
            "text/html": "<div>\n<style scoped>\n    .dataframe tbody tr th:only-of-type {\n        vertical-align: middle;\n    }\n\n    .dataframe tbody tr th {\n        vertical-align: top;\n    }\n\n    .dataframe thead th {\n        text-align: right;\n    }\n</style>\n<table border=\"1\" class=\"dataframe\">\n  <thead>\n    <tr style=\"text-align: right;\">\n      <th></th>\n      <th>Temp(med)</th>\n      <th>Temp(min)</th>\n      <th>Temp(Max)</th>\n      <th>Rainfall(mm)</th>\n      <th>weekend</th>\n    </tr>\n  </thead>\n  <tbody>\n    <tr>\n      <th>0</th>\n      <td>1.912508</td>\n      <td>2.281333</td>\n      <td>1.365781</td>\n      <td>-0.419062</td>\n      <td>0</td>\n    </tr>\n    <tr>\n      <th>1</th>\n      <td>1.824340</td>\n      <td>2.493924</td>\n      <td>1.597722</td>\n      <td>-0.419062</td>\n      <td>0</td>\n    </tr>\n    <tr>\n      <th>2</th>\n      <td>1.131590</td>\n      <td>1.749853</td>\n      <td>0.762735</td>\n      <td>-0.419062</td>\n      <td>1</td>\n    </tr>\n    <tr>\n      <th>3</th>\n      <td>0.867085</td>\n      <td>1.430966</td>\n      <td>0.461212</td>\n      <td>-0.322294</td>\n      <td>1</td>\n    </tr>\n    <tr>\n      <th>4</th>\n      <td>0.816703</td>\n      <td>1.253806</td>\n      <td>0.391630</td>\n      <td>-0.419062</td>\n      <td>0</td>\n    </tr>\n  </tbody>\n</table>\n</div>",
            "text/plain": "   Temp(med)  Temp(min)  Temp(Max)  Rainfall(mm)  weekend\n0   1.912508   2.281333   1.365781     -0.419062        0\n1   1.824340   2.493924   1.597722     -0.419062        0\n2   1.131590   1.749853   0.762735     -0.419062        1\n3   0.867085   1.430966   0.461212     -0.322294        1\n4   0.816703   1.253806   0.391630     -0.419062        0"
          },
          "metadata": {}
        }
      ]
    },
    {
      "metadata": {
        "trusted": true
      },
      "cell_type": "code",
      "source": "",
      "execution_count": null,
      "outputs": []
    }
  ],
  "metadata": {
    "kernelspec": {
      "name": "python36",
      "display_name": "Python 3.6",
      "language": "python"
    },
    "language_info": {
      "mimetype": "text/x-python",
      "nbconvert_exporter": "python",
      "name": "python",
      "pygments_lexer": "ipython3",
      "version": "3.6.6",
      "file_extension": ".py",
      "codemirror_mode": {
        "version": 3,
        "name": "ipython"
      }
    }
  },
  "nbformat": 4,
  "nbformat_minor": 2
}