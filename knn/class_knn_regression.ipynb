{
  "cells": [
    {
      "metadata": {
        "trusted": true
      },
      "cell_type": "code",
      "source": "import pandas as pd",
      "execution_count": 1,
      "outputs": []
    },
    {
      "metadata": {
        "trusted": true
      },
      "cell_type": "code",
      "source": "df = pd.read_csv(\"Consumo_cerveja.csv\")",
      "execution_count": 2,
      "outputs": []
    },
    {
      "metadata": {
        "trusted": true
      },
      "cell_type": "code",
      "source": "df.head()",
      "execution_count": 3,
      "outputs": [
        {
          "output_type": "execute_result",
          "execution_count": 3,
          "data": {
            "text/html": "<div>\n<style scoped>\n    .dataframe tbody tr th:only-of-type {\n        vertical-align: middle;\n    }\n\n    .dataframe tbody tr th {\n        vertical-align: top;\n    }\n\n    .dataframe thead th {\n        text-align: right;\n    }\n</style>\n<table border=\"1\" class=\"dataframe\">\n  <thead>\n    <tr style=\"text-align: right;\">\n      <th></th>\n      <th>Data</th>\n      <th>Temperatura Media (C)</th>\n      <th>Temperatura Minima (C)</th>\n      <th>Temperatura Maxima (C)</th>\n      <th>Precipitacao (mm)</th>\n      <th>Final de Semana</th>\n      <th>Consumo de cerveja (litros)</th>\n    </tr>\n  </thead>\n  <tbody>\n    <tr>\n      <th>0</th>\n      <td>2015-01-01</td>\n      <td>27,3</td>\n      <td>23,9</td>\n      <td>32,5</td>\n      <td>0</td>\n      <td>0.0</td>\n      <td>25.461</td>\n    </tr>\n    <tr>\n      <th>1</th>\n      <td>2015-01-02</td>\n      <td>27,02</td>\n      <td>24,5</td>\n      <td>33,5</td>\n      <td>0</td>\n      <td>0.0</td>\n      <td>28.972</td>\n    </tr>\n    <tr>\n      <th>2</th>\n      <td>2015-01-03</td>\n      <td>24,82</td>\n      <td>22,4</td>\n      <td>29,9</td>\n      <td>0</td>\n      <td>1.0</td>\n      <td>30.814</td>\n    </tr>\n    <tr>\n      <th>3</th>\n      <td>2015-01-04</td>\n      <td>23,98</td>\n      <td>21,5</td>\n      <td>28,6</td>\n      <td>1,2</td>\n      <td>1.0</td>\n      <td>29.799</td>\n    </tr>\n    <tr>\n      <th>4</th>\n      <td>2015-01-05</td>\n      <td>23,82</td>\n      <td>21</td>\n      <td>28,3</td>\n      <td>0</td>\n      <td>0.0</td>\n      <td>28.900</td>\n    </tr>\n  </tbody>\n</table>\n</div>",
            "text/plain": "         Data Temperatura Media (C) Temperatura Minima (C)  \\\n0  2015-01-01                  27,3                   23,9   \n1  2015-01-02                 27,02                   24,5   \n2  2015-01-03                 24,82                   22,4   \n3  2015-01-04                 23,98                   21,5   \n4  2015-01-05                 23,82                     21   \n\n  Temperatura Maxima (C) Precipitacao (mm)  Final de Semana  \\\n0                   32,5                 0              0.0   \n1                   33,5                 0              0.0   \n2                   29,9                 0              1.0   \n3                   28,6               1,2              1.0   \n4                   28,3                 0              0.0   \n\n   Consumo de cerveja (litros)  \n0                       25.461  \n1                       28.972  \n2                       30.814  \n3                       29.799  \n4                       28.900  "
          },
          "metadata": {}
        }
      ]
    },
    {
      "metadata": {
        "trusted": true
      },
      "cell_type": "code",
      "source": "df.isnull().sum()",
      "execution_count": 4,
      "outputs": [
        {
          "output_type": "execute_result",
          "execution_count": 4,
          "data": {
            "text/plain": "Data                           576\nTemperatura Media (C)          576\nTemperatura Minima (C)         576\nTemperatura Maxima (C)         576\nPrecipitacao (mm)              576\nFinal de Semana                576\nConsumo de cerveja (litros)    576\ndtype: int64"
          },
          "metadata": {}
        }
      ]
    },
    {
      "metadata": {
        "trusted": true
      },
      "cell_type": "code",
      "source": "df.shape",
      "execution_count": 5,
      "outputs": [
        {
          "output_type": "execute_result",
          "execution_count": 5,
          "data": {
            "text/plain": "(941, 7)"
          },
          "metadata": {}
        }
      ]
    },
    {
      "metadata": {
        "trusted": true
      },
      "cell_type": "code",
      "source": "df = df.dropna()",
      "execution_count": 6,
      "outputs": []
    },
    {
      "metadata": {
        "trusted": true
      },
      "cell_type": "code",
      "source": "df.isnull().sum()",
      "execution_count": 7,
      "outputs": [
        {
          "output_type": "execute_result",
          "execution_count": 7,
          "data": {
            "text/plain": "Data                           0\nTemperatura Media (C)          0\nTemperatura Minima (C)         0\nTemperatura Maxima (C)         0\nPrecipitacao (mm)              0\nFinal de Semana                0\nConsumo de cerveja (litros)    0\ndtype: int64"
          },
          "metadata": {}
        }
      ]
    },
    {
      "metadata": {
        "trusted": true
      },
      "cell_type": "code",
      "source": "df.dtypes",
      "execution_count": 8,
      "outputs": [
        {
          "output_type": "execute_result",
          "execution_count": 8,
          "data": {
            "text/plain": "Data                            object\nTemperatura Media (C)           object\nTemperatura Minima (C)          object\nTemperatura Maxima (C)          object\nPrecipitacao (mm)               object\nFinal de Semana                float64\nConsumo de cerveja (litros)    float64\ndtype: object"
          },
          "metadata": {}
        }
      ]
    },
    {
      "metadata": {
        "trusted": true
      },
      "cell_type": "code",
      "source": "df.columns = [\"Date\",\"Temp(med)\", \"Temp(min)\", \"Temp(Max)\", \"Rainfall(mm)\", \"weekend\", \"consumption\"]",
      "execution_count": 9,
      "outputs": []
    },
    {
      "metadata": {
        "trusted": true
      },
      "cell_type": "code",
      "source": "df.head()",
      "execution_count": 10,
      "outputs": [
        {
          "output_type": "execute_result",
          "execution_count": 10,
          "data": {
            "text/html": "<div>\n<style scoped>\n    .dataframe tbody tr th:only-of-type {\n        vertical-align: middle;\n    }\n\n    .dataframe tbody tr th {\n        vertical-align: top;\n    }\n\n    .dataframe thead th {\n        text-align: right;\n    }\n</style>\n<table border=\"1\" class=\"dataframe\">\n  <thead>\n    <tr style=\"text-align: right;\">\n      <th></th>\n      <th>Date</th>\n      <th>Temp(med)</th>\n      <th>Temp(min)</th>\n      <th>Temp(Max)</th>\n      <th>Rainfall(mm)</th>\n      <th>weekend</th>\n      <th>consumption</th>\n    </tr>\n  </thead>\n  <tbody>\n    <tr>\n      <th>0</th>\n      <td>2015-01-01</td>\n      <td>27,3</td>\n      <td>23,9</td>\n      <td>32,5</td>\n      <td>0</td>\n      <td>0.0</td>\n      <td>25.461</td>\n    </tr>\n    <tr>\n      <th>1</th>\n      <td>2015-01-02</td>\n      <td>27,02</td>\n      <td>24,5</td>\n      <td>33,5</td>\n      <td>0</td>\n      <td>0.0</td>\n      <td>28.972</td>\n    </tr>\n    <tr>\n      <th>2</th>\n      <td>2015-01-03</td>\n      <td>24,82</td>\n      <td>22,4</td>\n      <td>29,9</td>\n      <td>0</td>\n      <td>1.0</td>\n      <td>30.814</td>\n    </tr>\n    <tr>\n      <th>3</th>\n      <td>2015-01-04</td>\n      <td>23,98</td>\n      <td>21,5</td>\n      <td>28,6</td>\n      <td>1,2</td>\n      <td>1.0</td>\n      <td>29.799</td>\n    </tr>\n    <tr>\n      <th>4</th>\n      <td>2015-01-05</td>\n      <td>23,82</td>\n      <td>21</td>\n      <td>28,3</td>\n      <td>0</td>\n      <td>0.0</td>\n      <td>28.900</td>\n    </tr>\n  </tbody>\n</table>\n</div>",
            "text/plain": "         Date Temp(med) Temp(min) Temp(Max) Rainfall(mm)  weekend  consumption\n0  2015-01-01      27,3      23,9      32,5            0      0.0       25.461\n1  2015-01-02     27,02      24,5      33,5            0      0.0       28.972\n2  2015-01-03     24,82      22,4      29,9            0      1.0       30.814\n3  2015-01-04     23,98      21,5      28,6          1,2      1.0       29.799\n4  2015-01-05     23,82        21      28,3            0      0.0       28.900"
          },
          "metadata": {}
        }
      ]
    },
    {
      "metadata": {
        "trusted": true
      },
      "cell_type": "code",
      "source": "df.drop([\"Date\"],1,inplace = True)",
      "execution_count": 11,
      "outputs": []
    },
    {
      "metadata": {
        "trusted": true
      },
      "cell_type": "code",
      "source": "df.head(2)",
      "execution_count": 12,
      "outputs": [
        {
          "output_type": "execute_result",
          "execution_count": 12,
          "data": {
            "text/html": "<div>\n<style scoped>\n    .dataframe tbody tr th:only-of-type {\n        vertical-align: middle;\n    }\n\n    .dataframe tbody tr th {\n        vertical-align: top;\n    }\n\n    .dataframe thead th {\n        text-align: right;\n    }\n</style>\n<table border=\"1\" class=\"dataframe\">\n  <thead>\n    <tr style=\"text-align: right;\">\n      <th></th>\n      <th>Temp(med)</th>\n      <th>Temp(min)</th>\n      <th>Temp(Max)</th>\n      <th>Rainfall(mm)</th>\n      <th>weekend</th>\n      <th>consumption</th>\n    </tr>\n  </thead>\n  <tbody>\n    <tr>\n      <th>0</th>\n      <td>27,3</td>\n      <td>23,9</td>\n      <td>32,5</td>\n      <td>0</td>\n      <td>0.0</td>\n      <td>25.461</td>\n    </tr>\n    <tr>\n      <th>1</th>\n      <td>27,02</td>\n      <td>24,5</td>\n      <td>33,5</td>\n      <td>0</td>\n      <td>0.0</td>\n      <td>28.972</td>\n    </tr>\n  </tbody>\n</table>\n</div>",
            "text/plain": "  Temp(med) Temp(min) Temp(Max) Rainfall(mm)  weekend  consumption\n0      27,3      23,9      32,5            0      0.0       25.461\n1     27,02      24,5      33,5            0      0.0       28.972"
          },
          "metadata": {}
        }
      ]
    },
    {
      "metadata": {
        "trusted": true
      },
      "cell_type": "code",
      "source": "for x in list(df)[:4]:\n    df[x] = df[x].str.replace(\",\", \".\").astype(float)",
      "execution_count": 13,
      "outputs": []
    },
    {
      "metadata": {
        "trusted": true
      },
      "cell_type": "code",
      "source": "df.dtypes",
      "execution_count": 14,
      "outputs": [
        {
          "output_type": "execute_result",
          "execution_count": 14,
          "data": {
            "text/plain": "Temp(med)       float64\nTemp(min)       float64\nTemp(Max)       float64\nRainfall(mm)    float64\nweekend         float64\nconsumption     float64\ndtype: object"
          },
          "metadata": {}
        }
      ]
    },
    {
      "metadata": {
        "trusted": true
      },
      "cell_type": "code",
      "source": "df[\"weekend\"] = df[\"weekend\"].astype(\"category\")",
      "execution_count": 15,
      "outputs": []
    },
    {
      "metadata": {
        "trusted": true
      },
      "cell_type": "code",
      "source": "df.dtypes",
      "execution_count": 16,
      "outputs": [
        {
          "output_type": "execute_result",
          "execution_count": 16,
          "data": {
            "text/plain": "Temp(med)        float64\nTemp(min)        float64\nTemp(Max)        float64\nRainfall(mm)     float64\nweekend         category\nconsumption      float64\ndtype: object"
          },
          "metadata": {}
        }
      ]
    },
    {
      "metadata": {
        "trusted": true
      },
      "cell_type": "code",
      "source": "df.head()",
      "execution_count": 17,
      "outputs": [
        {
          "output_type": "execute_result",
          "execution_count": 17,
          "data": {
            "text/html": "<div>\n<style scoped>\n    .dataframe tbody tr th:only-of-type {\n        vertical-align: middle;\n    }\n\n    .dataframe tbody tr th {\n        vertical-align: top;\n    }\n\n    .dataframe thead th {\n        text-align: right;\n    }\n</style>\n<table border=\"1\" class=\"dataframe\">\n  <thead>\n    <tr style=\"text-align: right;\">\n      <th></th>\n      <th>Temp(med)</th>\n      <th>Temp(min)</th>\n      <th>Temp(Max)</th>\n      <th>Rainfall(mm)</th>\n      <th>weekend</th>\n      <th>consumption</th>\n    </tr>\n  </thead>\n  <tbody>\n    <tr>\n      <th>0</th>\n      <td>27.30</td>\n      <td>23.9</td>\n      <td>32.5</td>\n      <td>0.0</td>\n      <td>0.0</td>\n      <td>25.461</td>\n    </tr>\n    <tr>\n      <th>1</th>\n      <td>27.02</td>\n      <td>24.5</td>\n      <td>33.5</td>\n      <td>0.0</td>\n      <td>0.0</td>\n      <td>28.972</td>\n    </tr>\n    <tr>\n      <th>2</th>\n      <td>24.82</td>\n      <td>22.4</td>\n      <td>29.9</td>\n      <td>0.0</td>\n      <td>1.0</td>\n      <td>30.814</td>\n    </tr>\n    <tr>\n      <th>3</th>\n      <td>23.98</td>\n      <td>21.5</td>\n      <td>28.6</td>\n      <td>1.2</td>\n      <td>1.0</td>\n      <td>29.799</td>\n    </tr>\n    <tr>\n      <th>4</th>\n      <td>23.82</td>\n      <td>21.0</td>\n      <td>28.3</td>\n      <td>0.0</td>\n      <td>0.0</td>\n      <td>28.900</td>\n    </tr>\n  </tbody>\n</table>\n</div>",
            "text/plain": "   Temp(med)  Temp(min)  Temp(Max)  Rainfall(mm) weekend  consumption\n0      27.30       23.9       32.5           0.0     0.0       25.461\n1      27.02       24.5       33.5           0.0     0.0       28.972\n2      24.82       22.4       29.9           0.0     1.0       30.814\n3      23.98       21.5       28.6           1.2     1.0       29.799\n4      23.82       21.0       28.3           0.0     0.0       28.900"
          },
          "metadata": {}
        }
      ]
    },
    {
      "metadata": {
        "trusted": true
      },
      "cell_type": "code",
      "source": "X = df.drop([\"consumption\"],1)\ny = df[\"consumption\"]",
      "execution_count": 18,
      "outputs": []
    },
    {
      "metadata": {
        "trusted": true
      },
      "cell_type": "code",
      "source": "df.describe()",
      "execution_count": 19,
      "outputs": [
        {
          "output_type": "execute_result",
          "execution_count": 19,
          "data": {
            "text/html": "<div>\n<style scoped>\n    .dataframe tbody tr th:only-of-type {\n        vertical-align: middle;\n    }\n\n    .dataframe tbody tr th {\n        vertical-align: top;\n    }\n\n    .dataframe thead th {\n        text-align: right;\n    }\n</style>\n<table border=\"1\" class=\"dataframe\">\n  <thead>\n    <tr style=\"text-align: right;\">\n      <th></th>\n      <th>Temp(med)</th>\n      <th>Temp(min)</th>\n      <th>Temp(Max)</th>\n      <th>Rainfall(mm)</th>\n      <th>consumption</th>\n    </tr>\n  </thead>\n  <tbody>\n    <tr>\n      <th>count</th>\n      <td>365.000000</td>\n      <td>365.000000</td>\n      <td>365.000000</td>\n      <td>365.000000</td>\n      <td>365.000000</td>\n    </tr>\n    <tr>\n      <th>mean</th>\n      <td>21.226356</td>\n      <td>17.461370</td>\n      <td>26.611507</td>\n      <td>5.196712</td>\n      <td>25.401367</td>\n    </tr>\n    <tr>\n      <th>std</th>\n      <td>3.180108</td>\n      <td>2.826185</td>\n      <td>4.317366</td>\n      <td>12.417844</td>\n      <td>4.399143</td>\n    </tr>\n    <tr>\n      <th>min</th>\n      <td>12.900000</td>\n      <td>10.600000</td>\n      <td>14.500000</td>\n      <td>0.000000</td>\n      <td>14.343000</td>\n    </tr>\n    <tr>\n      <th>25%</th>\n      <td>19.020000</td>\n      <td>15.300000</td>\n      <td>23.800000</td>\n      <td>0.000000</td>\n      <td>22.008000</td>\n    </tr>\n    <tr>\n      <th>50%</th>\n      <td>21.380000</td>\n      <td>17.900000</td>\n      <td>26.900000</td>\n      <td>0.000000</td>\n      <td>24.867000</td>\n    </tr>\n    <tr>\n      <th>75%</th>\n      <td>23.280000</td>\n      <td>19.600000</td>\n      <td>29.400000</td>\n      <td>3.200000</td>\n      <td>28.631000</td>\n    </tr>\n    <tr>\n      <th>max</th>\n      <td>28.860000</td>\n      <td>24.500000</td>\n      <td>36.500000</td>\n      <td>94.800000</td>\n      <td>37.937000</td>\n    </tr>\n  </tbody>\n</table>\n</div>",
            "text/plain": "        Temp(med)   Temp(min)   Temp(Max)  Rainfall(mm)  consumption\ncount  365.000000  365.000000  365.000000    365.000000   365.000000\nmean    21.226356   17.461370   26.611507      5.196712    25.401367\nstd      3.180108    2.826185    4.317366     12.417844     4.399143\nmin     12.900000   10.600000   14.500000      0.000000    14.343000\n25%     19.020000   15.300000   23.800000      0.000000    22.008000\n50%     21.380000   17.900000   26.900000      0.000000    24.867000\n75%     23.280000   19.600000   29.400000      3.200000    28.631000\nmax     28.860000   24.500000   36.500000     94.800000    37.937000"
          },
          "metadata": {}
        }
      ]
    },
    {
      "metadata": {
        "trusted": true
      },
      "cell_type": "code",
      "source": "from sklearn.neighbors import KNeighborsRegressor\nfrom sklearn.metrics import mean_squared_error, r2_score\nimport numpy as np\nfrom sklearn.model_selection import train_test_split as tts, GridSearchCV, cross_val_score",
      "execution_count": 20,
      "outputs": []
    },
    {
      "metadata": {
        "trusted": true
      },
      "cell_type": "code",
      "source": "X_train, X_test, y_train, y_test = tts(X,y,random_state = 21, test_size = 0.3)",
      "execution_count": 22,
      "outputs": []
    },
    {
      "metadata": {
        "trusted": true
      },
      "cell_type": "code",
      "source": "knn = KNeighborsRegressor()",
      "execution_count": 23,
      "outputs": []
    },
    {
      "metadata": {
        "trusted": true
      },
      "cell_type": "code",
      "source": "knn.fit(X_train, y_train)\nknn.score(X_test,y_test)",
      "execution_count": 24,
      "outputs": [
        {
          "output_type": "execute_result",
          "execution_count": 24,
          "data": {
            "text/plain": "0.4860856715151975"
          },
          "metadata": {}
        }
      ]
    },
    {
      "metadata": {
        "trusted": true
      },
      "cell_type": "code",
      "source": "params = {\"n_neighbors\":np.arange(1,10,1), \"metric\":[\"euclidean\", \"minkowski\", \"jaccard\", \"cosine\"]}",
      "execution_count": 25,
      "outputs": []
    },
    {
      "metadata": {
        "trusted": true
      },
      "cell_type": "code",
      "source": "params",
      "execution_count": 26,
      "outputs": [
        {
          "output_type": "execute_result",
          "execution_count": 26,
          "data": {
            "text/plain": "{'n_neighbors': array([1, 2, 3, 4, 5, 6, 7, 8, 9]),\n 'metric': ['euclidean', 'minkowski', 'jaccard', 'cosine']}"
          },
          "metadata": {}
        }
      ]
    },
    {
      "metadata": {
        "trusted": true
      },
      "cell_type": "code",
      "source": "max(cross_val_score(knn, X,y, cv = 10))\n",
      "execution_count": 29,
      "outputs": [
        {
          "output_type": "execute_result",
          "execution_count": 29,
          "data": {
            "text/plain": "0.47954349739784685"
          },
          "metadata": {}
        }
      ]
    },
    {
      "metadata": {
        "trusted": true
      },
      "cell_type": "code",
      "source": "knn_cv = GridSearchCV(estimator=knn, param_grid=params, cv = 10)",
      "execution_count": 30,
      "outputs": []
    },
    {
      "metadata": {
        "trusted": true
      },
      "cell_type": "code",
      "source": "knn_cv.fit(X,y)",
      "execution_count": 31,
      "outputs": [
        {
          "output_type": "stream",
          "text": "/home/nbuser/anaconda3_501/lib/python3.6/site-packages/sklearn/model_selection/_search.py:841: DeprecationWarning: The default of the `iid` parameter will change from True to False in version 0.22 and will be removed in 0.24. This will change numeric results when test-set sizes are unequal.\n  DeprecationWarning)\n",
          "name": "stderr"
        },
        {
          "output_type": "execute_result",
          "execution_count": 31,
          "data": {
            "text/plain": "GridSearchCV(cv=10, error_score='raise-deprecating',\n       estimator=KNeighborsRegressor(algorithm='auto', leaf_size=30, metric='minkowski',\n          metric_params=None, n_jobs=None, n_neighbors=5, p=2,\n          weights='uniform'),\n       fit_params=None, iid='warn', n_jobs=None,\n       param_grid={'n_neighbors': array([1, 2, 3, 4, 5, 6, 7, 8, 9]), 'metric': ['euclidean', 'minkowski', 'jaccard', 'cosine']},\n       pre_dispatch='2*n_jobs', refit=True, return_train_score='warn',\n       scoring=None, verbose=0)"
          },
          "metadata": {}
        }
      ]
    },
    {
      "metadata": {
        "trusted": true
      },
      "cell_type": "code",
      "source": "knn_cv.best_score_",
      "execution_count": 32,
      "outputs": [
        {
          "output_type": "error",
          "ename": "AttributeError",
          "evalue": "'GridSearchCV' object has no attribute 'be'",
          "traceback": [
            "\u001b[0;31m---------------------------------------------------------------------------\u001b[0m",
            "\u001b[0;31mAttributeError\u001b[0m                            Traceback (most recent call last)",
            "\u001b[0;32m<ipython-input-32-81ddcf84eecf>\u001b[0m in \u001b[0;36m<module>\u001b[0;34m\u001b[0m\n\u001b[0;32m----> 1\u001b[0;31m \u001b[0mknn_cv\u001b[0m\u001b[0;34m.\u001b[0m\u001b[0mbe\u001b[0m\u001b[0;34m\u001b[0m\u001b[0m\n\u001b[0m",
            "\u001b[0;31mAttributeError\u001b[0m: 'GridSearchCV' object has no attribute 'be'"
          ]
        }
      ]
    },
    {
      "metadata": {
        "trusted": true
      },
      "cell_type": "code",
      "source": "knn_cv.best_params_",
      "execution_count": 122,
      "outputs": [
        {
          "execution_count": 122,
          "output_type": "execute_result",
          "data": {
            "text/plain": "{'metric': 'euclidean', 'n_neighbors': 9}"
          },
          "metadata": {}
        }
      ]
    },
    {
      "metadata": {
        "trusted": true
      },
      "cell_type": "code",
      "source": "knn_cv.best_estimator_",
      "execution_count": 33,
      "outputs": [
        {
          "output_type": "execute_result",
          "execution_count": 33,
          "data": {
            "text/plain": "KNeighborsRegressor(algorithm='auto', leaf_size=30, metric='euclidean',\n          metric_params=None, n_jobs=None, n_neighbors=7, p=2,\n          weights='uniform')"
          },
          "metadata": {}
        }
      ]
    },
    {
      "metadata": {
        "trusted": true
      },
      "cell_type": "code",
      "source": "from sklearn.preprocessing import StandardScaler\nscaler = StandardScaler()",
      "execution_count": 77,
      "outputs": []
    },
    {
      "metadata": {
        "trusted": true
      },
      "cell_type": "code",
      "source": "X1 = X.copy()",
      "execution_count": 78,
      "outputs": []
    },
    {
      "metadata": {
        "trusted": true
      },
      "cell_type": "code",
      "source": "X1[\"weekend\"] = X1[\"weekend\"].astype(int)",
      "execution_count": 91,
      "outputs": []
    },
    {
      "metadata": {
        "trusted": true
      },
      "cell_type": "code",
      "source": "X1.head()",
      "execution_count": 92,
      "outputs": [
        {
          "execution_count": 92,
          "output_type": "execute_result",
          "data": {
            "text/html": "<div>\n<style scoped>\n    .dataframe tbody tr th:only-of-type {\n        vertical-align: middle;\n    }\n\n    .dataframe tbody tr th {\n        vertical-align: top;\n    }\n\n    .dataframe thead th {\n        text-align: right;\n    }\n</style>\n<table border=\"1\" class=\"dataframe\">\n  <thead>\n    <tr style=\"text-align: right;\">\n      <th></th>\n      <th>Temp(med)</th>\n      <th>Temp(min)</th>\n      <th>Temp(Max)</th>\n      <th>Rainfall(mm)</th>\n      <th>weekend</th>\n    </tr>\n  </thead>\n  <tbody>\n    <tr>\n      <th>0</th>\n      <td>27.30</td>\n      <td>23.9</td>\n      <td>32.5</td>\n      <td>0.0</td>\n      <td>0</td>\n    </tr>\n    <tr>\n      <th>1</th>\n      <td>27.02</td>\n      <td>24.5</td>\n      <td>33.5</td>\n      <td>0.0</td>\n      <td>0</td>\n    </tr>\n    <tr>\n      <th>2</th>\n      <td>24.82</td>\n      <td>22.4</td>\n      <td>29.9</td>\n      <td>0.0</td>\n      <td>1</td>\n    </tr>\n    <tr>\n      <th>3</th>\n      <td>23.98</td>\n      <td>21.5</td>\n      <td>28.6</td>\n      <td>1.2</td>\n      <td>1</td>\n    </tr>\n    <tr>\n      <th>4</th>\n      <td>23.82</td>\n      <td>21.0</td>\n      <td>28.3</td>\n      <td>0.0</td>\n      <td>0</td>\n    </tr>\n  </tbody>\n</table>\n</div>",
            "text/plain": "   Temp(med)  Temp(min)  Temp(Max)  Rainfall(mm)  weekend\n0      27.30       23.9       32.5           0.0        0\n1      27.02       24.5       33.5           0.0        0\n2      24.82       22.4       29.9           0.0        1\n3      23.98       21.5       28.6           1.2        1\n4      23.82       21.0       28.3           0.0        0"
          },
          "metadata": {}
        }
      ]
    },
    {
      "metadata": {
        "trusted": true
      },
      "cell_type": "code",
      "source": "weekend = X[\"weekend\"] ",
      "execution_count": 100,
      "outputs": []
    },
    {
      "metadata": {
        "trusted": true
      },
      "cell_type": "code",
      "source": "X.drop([\"weekend\"],1,inplace = True)",
      "execution_count": 103,
      "outputs": []
    },
    {
      "metadata": {
        "trusted": true
      },
      "cell_type": "code",
      "source": "X = pd.DataFrame(scaler.fit_transform(X), columns = list(X))",
      "execution_count": 108,
      "outputs": []
    },
    {
      "metadata": {
        "trusted": true
      },
      "cell_type": "code",
      "source": "X[\"weekend\"] = weekend",
      "execution_count": 109,
      "outputs": []
    },
    {
      "metadata": {
        "trusted": true
      },
      "cell_type": "code",
      "source": "X.head()",
      "execution_count": 110,
      "outputs": [
        {
          "execution_count": 110,
          "output_type": "execute_result",
          "data": {
            "text/html": "<div>\n<style scoped>\n    .dataframe tbody tr th:only-of-type {\n        vertical-align: middle;\n    }\n\n    .dataframe tbody tr th {\n        vertical-align: top;\n    }\n\n    .dataframe thead th {\n        text-align: right;\n    }\n</style>\n<table border=\"1\" class=\"dataframe\">\n  <thead>\n    <tr style=\"text-align: right;\">\n      <th></th>\n      <th>Temp(med)</th>\n      <th>Temp(min)</th>\n      <th>Temp(Max)</th>\n      <th>Rainfall(mm)</th>\n      <th>weekend</th>\n    </tr>\n  </thead>\n  <tbody>\n    <tr>\n      <th>0</th>\n      <td>1.912508</td>\n      <td>2.281333</td>\n      <td>1.365781</td>\n      <td>-0.419062</td>\n      <td>0.0</td>\n    </tr>\n    <tr>\n      <th>1</th>\n      <td>1.824340</td>\n      <td>2.493924</td>\n      <td>1.597722</td>\n      <td>-0.419062</td>\n      <td>0.0</td>\n    </tr>\n    <tr>\n      <th>2</th>\n      <td>1.131590</td>\n      <td>1.749853</td>\n      <td>0.762735</td>\n      <td>-0.419062</td>\n      <td>1.0</td>\n    </tr>\n    <tr>\n      <th>3</th>\n      <td>0.867085</td>\n      <td>1.430966</td>\n      <td>0.461212</td>\n      <td>-0.322294</td>\n      <td>1.0</td>\n    </tr>\n    <tr>\n      <th>4</th>\n      <td>0.816703</td>\n      <td>1.253806</td>\n      <td>0.391630</td>\n      <td>-0.419062</td>\n      <td>0.0</td>\n    </tr>\n  </tbody>\n</table>\n</div>",
            "text/plain": "   Temp(med)  Temp(min)  Temp(Max)  Rainfall(mm) weekend\n0   1.912508   2.281333   1.365781     -0.419062     0.0\n1   1.824340   2.493924   1.597722     -0.419062     0.0\n2   1.131590   1.749853   0.762735     -0.419062     1.0\n3   0.867085   1.430966   0.461212     -0.322294     1.0\n4   0.816703   1.253806   0.391630     -0.419062     0.0"
          },
          "metadata": {}
        }
      ]
    },
    {
      "metadata": {
        "trusted": false
      },
      "cell_type": "code",
      "source": "",
      "execution_count": null,
      "outputs": []
    }
  ],
  "metadata": {
    "kernelspec": {
      "name": "python36",
      "display_name": "Python 3.6",
      "language": "python"
    },
    "language_info": {
      "mimetype": "text/x-python",
      "nbconvert_exporter": "python",
      "name": "python",
      "pygments_lexer": "ipython3",
      "version": "3.6.6",
      "file_extension": ".py",
      "codemirror_mode": {
        "version": 3,
        "name": "ipython"
      }
    }
  },
  "nbformat": 4,
  "nbformat_minor": 2
}